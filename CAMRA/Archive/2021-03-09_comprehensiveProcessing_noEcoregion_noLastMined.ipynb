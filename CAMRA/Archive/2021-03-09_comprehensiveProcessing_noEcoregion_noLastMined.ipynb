{
 "cells": [
  {
   "cell_type": "markdown",
   "metadata": {
    "id": "NHSXSEWujYHR"
   },
   "source": [
    "# 1. Installation and Import, Mounting Google Drive"
   ]
  },
  {
   "cell_type": "code",
   "execution_count": 81,
   "metadata": {
    "colab": {
     "base_uri": "https://localhost:8080/"
    },
    "executionInfo": {
     "elapsed": 2879,
     "status": "ok",
     "timestamp": 1615327350771,
     "user": {
      "displayName": "Christian Thomas",
      "photoUrl": "https://lh3.googleusercontent.com/a-/AOh14GhCXQbS7wKdny1Y2eYyyyCBA0sSMj6-kzLt_h3zOA=s64",
      "userId": "01851479097774941674"
     },
     "user_tz": 300
    },
    "id": "PWPTgfE2Nyh9",
    "outputId": "49f8dbc1-efad-4754-c0b7-35a722403f08"
   },
   "outputs": [],
   "source": [
    "pip install geopandas"
   ]
  },
  {
   "cell_type": "code",
   "execution_count": 82,
   "metadata": {
    "colab": {
     "base_uri": "https://localhost:8080/"
    },
    "executionInfo": {
     "elapsed": 256,
     "status": "ok",
     "timestamp": 1615327421065,
     "user": {
      "displayName": "Christian Thomas",
      "photoUrl": "https://lh3.googleusercontent.com/a-/AOh14GhCXQbS7wKdny1Y2eYyyyCBA0sSMj6-kzLt_h3zOA=s64",
      "userId": "01851479097774941674"
     },
     "user_tz": 300
    },
    "id": "OIsjObjpNcmj",
    "outputId": "99409baf-5f13-4ef6-9996-0ab09f438cdb"
   },
   "outputs": [],
   "source": [
    "import geopandas as gpd\n",
    "import numpy as np\n",
    "import pandas as pd\n",
    "import os\n",
    "from google.colab import drive\n",
    "drive.mount('/content/drive/')"
   ]
  },
  {
   "cell_type": "markdown",
   "metadata": {
    "id": "zjn12bEcjyq7"
   },
   "source": [
    "# 2. Setting Data Directory"
   ]
  },
  {
   "cell_type": "code",
   "execution_count": 83,
   "metadata": {
    "executionInfo": {
     "elapsed": 263,
     "status": "ok",
     "timestamp": 1615327424832,
     "user": {
      "displayName": "Christian Thomas",
      "photoUrl": "https://lh3.googleusercontent.com/a-/AOh14GhCXQbS7wKdny1Y2eYyyyCBA0sSMj6-kzLt_h3zOA=s64",
      "userId": "01851479097774941674"
     },
     "user_tz": 300
    },
    "id": "gIzNkFjlj_Qw"
   },
   "outputs": [],
   "source": [
    "file_path = '/content/drive/MyDrive/SkyTruth_Nat_Geo_Code/'"
   ]
  },
  {
   "cell_type": "code",
   "execution_count": 84,
   "metadata": {
    "colab": {
     "base_uri": "https://localhost:8080/"
    },
    "executionInfo": {
     "elapsed": 377,
     "status": "ok",
     "timestamp": 1615327426391,
     "user": {
      "displayName": "Christian Thomas",
      "photoUrl": "https://lh3.googleusercontent.com/a-/AOh14GhCXQbS7wKdny1Y2eYyyyCBA0sSMj6-kzLt_h3zOA=s64",
      "userId": "01851479097774941674"
     },
     "user_tz": 300
    },
    "id": "qcTKIBqqN7Cg",
    "outputId": "28ee0a9c-c8a5-4546-9657-cac61cbae3f4"
   },
   "outputs": [
    {
     "name": "stdout",
     "output_type": "stream",
     "text": [
      "2021-03-09_comprehensiveProcessing_noEcoregion_noLastMined.ipynb\n",
      "2021-03-09_comprehensiveProcessing_withEcoregion_noLastMined.ipynb\n",
      "2021-03-09_comprehensiveProcessing_withEcoregion_withLastMined.ipynb\n",
      "2021-03-09_sr_annualLastMinedMetrics.ipynb\n",
      "\u001b[0m\u001b[01;34mOutput_Data\u001b[0m/\n",
      "\u001b[01;34mSample_Data\u001b[0m/\n"
     ]
    }
   ],
   "source": [
    "# This will need to be changed depending on where your files and code are stored. This assumes they are stored in the \n",
    "# same directory.\n",
    "\n",
    "os.chdir(file_path)\n",
    "%ls\n",
    "# %pwd"
   ]
  },
  {
   "cell_type": "markdown",
   "metadata": {
    "id": "_bXMfFxLkcHX"
   },
   "source": [
    "# 3. Specify Infiles and Export Files"
   ]
  },
  {
   "cell_type": "code",
   "execution_count": 90,
   "metadata": {
    "executionInfo": {
     "elapsed": 539,
     "status": "ok",
     "timestamp": 1615327507033,
     "user": {
      "displayName": "Christian Thomas",
      "photoUrl": "https://lh3.googleusercontent.com/a-/AOh14GhCXQbS7wKdny1Y2eYyyyCBA0sSMj6-kzLt_h3zOA=s64",
      "userId": "01851479097774941674"
     },
     "user_tz": 300
    },
    "id": "oT00njkpN8_l"
   },
   "outputs": [],
   "source": [
    "# SPECIFY INFILES AND OUTPUT FILES\n",
    "infile_csv = 'Sample_Data/2021-03-09_lastMined_srHarmonizedMed_metricProcessed_noEcoregion_noLM.csv'\n",
    "infile_gjs = 'Sample_Data/2021-03-09_lastMined_srHarmonizedMed_metricProcessed_noEcoregion_noLM.geojson'\n",
    "\n",
    "epa_file_name = 'Sample_Data/2021-03-09_epaEcoregionSite_srHarmonizedMed_metricProcessed.csv'\n",
    "\n",
    "geojson_export = 'Output_Data/TEST_OUTPUT_lastMined_raw_ARM_noEcoregion_noLM.geojson'"
   ]
  },
  {
   "cell_type": "markdown",
   "metadata": {
    "id": "NwQvjiwkOQLY"
   },
   "source": [
    "# 4. DATA CLEANING"
   ]
  },
  {
   "cell_type": "code",
   "execution_count": 93,
   "metadata": {
    "executionInfo": {
     "elapsed": 289,
     "status": "ok",
     "timestamp": 1615327529154,
     "user": {
      "displayName": "Christian Thomas",
      "photoUrl": "https://lh3.googleusercontent.com/a-/AOh14GhCXQbS7wKdny1Y2eYyyyCBA0sSMj6-kzLt_h3zOA=s64",
      "userId": "01851479097774941674"
     },
     "user_tz": 300
    },
    "id": "Q1GAunDNdyTG"
   },
   "outputs": [],
   "source": [
    "cOrder = ['B_1984', 'B_1985', 'B_1986', 'B_1987', 'B_1988', 'B_1989', 'B_1990', 'B_1991', 'B_1992', 'B_1993', 'B_1994', \n",
    "          'B_1995', 'B_1996', 'B_1997', 'B_1998', 'B_1999', 'B_2000', 'B_2001', 'B_2002', 'B_2003', 'B_2004', 'B_2005', \n",
    "          'B_2006', 'B_2007', 'B_2008', 'B_2009', 'B_2010', 'B_2011', 'B_2012', 'B_2013', 'B_2014', 'B_2015', 'B_2016', \n",
    "          'B_2017', 'B_2018', 'B_2019', 'EVI_1984', 'EVI_1985', 'EVI_1986', 'EVI_1987', 'EVI_1988', 'EVI_1989', \n",
    "          'EVI_1990', 'EVI_1991', 'EVI_1992', 'EVI_1993', 'EVI_1994', 'EVI_1995', 'EVI_1996', 'EVI_1997', 'EVI_1998', \n",
    "          'EVI_1999', 'EVI_2000', 'EVI_2001', 'EVI_2002', 'EVI_2003', 'EVI_2004', 'EVI_2005', 'EVI_2006', 'EVI_2007', \n",
    "          'EVI_2008', 'EVI_2009', 'EVI_2010', 'EVI_2011', 'EVI_2012', 'EVI_2013', 'EVI_2014', 'EVI_2015', 'EVI_2016', \n",
    "          'EVI_2017', 'EVI_2018', 'EVI_2019', 'G_1984', 'G_1985', 'G_1986', 'G_1987', 'G_1988', 'G_1989', 'G_1990', \n",
    "          'G_1991', 'G_1992', 'G_1993', 'G_1994', 'G_1995', 'G_1996', 'G_1997', 'G_1998', 'G_1999', 'G_2000', 'G_2001', \n",
    "          'G_2002', 'G_2003', 'G_2004', 'G_2005',  'G_2006', 'G_2007', 'G_2008', 'G_2009', 'G_2010', 'G_2011', 'G_2012',\n",
    "          'G_2013', 'G_2014', 'G_2015', 'G_2016', 'G_2017', 'G_2018', 'G_2019', 'MSAVI_1984', 'MSAVI_1985', \n",
    "          'MSAVI_1986', 'MSAVI_1987', 'MSAVI_1988', 'MSAVI_1989', 'MSAVI_1990', 'MSAVI_1991', 'MSAVI_1992', \n",
    "          'MSAVI_1993', 'MSAVI_1994', 'MSAVI_1995', 'MSAVI_1996', 'MSAVI_1997', 'MSAVI_1998', 'MSAVI_1999', \n",
    "          'MSAVI_2000', 'MSAVI_2001', 'MSAVI_2002', 'MSAVI_2003', 'MSAVI_2004', 'MSAVI_2005', 'MSAVI_2006', \n",
    "          'MSAVI_2007', 'MSAVI_2008', 'MSAVI_2009', 'MSAVI_2010', 'MSAVI_2011', 'MSAVI_2012', 'MSAVI_2013', \n",
    "          'MSAVI_2014', 'MSAVI_2015', 'MSAVI_2016', 'MSAVI_2017', 'MSAVI_2018', 'MSAVI_2019', 'NBR2_1984', 'NBR2_1985', \n",
    "          'NBR2_1986', 'NBR2_1987', 'NBR2_1988', 'NBR2_1989', 'NBR2_1990', 'NBR2_1991', 'NBR2_1992', 'NBR2_1993', \n",
    "          'NBR2_1994', 'NBR2_1995', 'NBR2_1996', 'NBR2_1997', 'NBR2_1998', 'NBR2_1999', 'NBR2_2000', 'NBR2_2001', \n",
    "          'NBR2_2002', 'NBR2_2003', 'NBR2_2004', 'NBR2_2005', 'NBR2_2006', 'NBR2_2007', 'NBR2_2008', 'NBR2_2009', \n",
    "          'NBR2_2010', 'NBR2_2011', 'NBR2_2012', 'NBR2_2013', 'NBR2_2014', 'NBR2_2015', 'NBR2_2016', 'NBR2_2017', \n",
    "          'NBR2_2018', 'NBR2_2019', 'NBR_1984', 'NBR_1985', 'NBR_1986', 'NBR_1987', 'NBR_1988', 'NBR_1989', 'NBR_1990', \n",
    "          'NBR_1991', 'NBR_1992', 'NBR_1993', 'NBR_1994', 'NBR_1995', 'NBR_1996', 'NBR_1997', 'NBR_1998', 'NBR_1999', \n",
    "          'NBR_2000', 'NBR_2001', 'NBR_2002', 'NBR_2003', 'NBR_2004', 'NBR_2005', 'NBR_2006', 'NBR_2007', 'NBR_2008', \n",
    "          'NBR_2009', 'NBR_2010', 'NBR_2011', 'NBR_2012', 'NBR_2013', 'NBR_2014', 'NBR_2015', 'NBR_2016', 'NBR_2017', \n",
    "          'NBR_2018', 'NBR_2019', 'NDMI_1984', 'NDMI_1985', 'NDMI_1986', 'NDMI_1987', 'NDMI_1988', 'NDMI_1989', \n",
    "          'NDMI_1990', 'NDMI_1991', 'NDMI_1992', 'NDMI_1993', 'NDMI_1994', 'NDMI_1995', 'NDMI_1996', 'NDMI_1997', \n",
    "          'NDMI_1998', 'NDMI_1999', 'NDMI_2000', 'NDMI_2001', 'NDMI_2002', 'NDMI_2003', 'NDMI_2004', 'NDMI_2005', \n",
    "          'NDMI_2006', 'NDMI_2007', 'NDMI_2008', 'NDMI_2009', 'NDMI_2010', 'NDMI_2011', 'NDMI_2012', 'NDMI_2013', \n",
    "          'NDMI_2014', 'NDMI_2015', 'NDMI_2016', 'NDMI_2017', 'NDMI_2018', 'NDMI_2019', 'NDVI_1984', 'NDVI_1985', \n",
    "          'NDVI_1986', 'NDVI_1987', 'NDVI_1988', 'NDVI_1989', 'NDVI_1990', 'NDVI_1991', 'NDVI_1992', 'NDVI_1993', \n",
    "          'NDVI_1994', 'NDVI_1995', 'NDVI_1996', 'NDVI_1997', 'NDVI_1998', 'NDVI_1999', 'NDVI_2000', 'NDVI_2001', \n",
    "          'NDVI_2002', 'NDVI_2003', 'NDVI_2004', 'NDVI_2005', 'NDVI_2006', 'NDVI_2007', 'NDVI_2008', 'NDVI_2009', \n",
    "          'NDVI_2010', 'NDVI_2011', 'NDVI_2012', 'NDVI_2013', 'NDVI_2014', 'NDVI_2015', 'NDVI_2016', 'NDVI_2017', \n",
    "          'NDVI_2018', 'NDVI_2019', 'NIR_1984', 'NIR_1985', 'NIR_1986', 'NIR_1987', 'NIR_1988', 'NIR_1989', 'NIR_1990', \n",
    "          'NIR_1991', 'NIR_1992', 'NIR_1993', 'NIR_1994', 'NIR_1995', 'NIR_1996', 'NIR_1997', 'NIR_1998', 'NIR_1999', \n",
    "          'NIR_2000', 'NIR_2001', 'NIR_2002', 'NIR_2003', 'NIR_2004', 'NIR_2005', 'NIR_2006', 'NIR_2007', 'NIR_2008', \n",
    "          'NIR_2009', 'NIR_2010', 'NIR_2011', 'NIR_2012', 'NIR_2013', 'NIR_2014', 'NIR_2015', 'NIR_2016', 'NIR_2017', \n",
    "          'NIR_2018', 'NIR_2019', 'R_1984', 'R_1985', 'R_1986', 'R_1987', 'R_1988', 'R_1989', 'R_1990', 'R_1991', \n",
    "          'R_1992', 'R_1993', 'R_1994', 'R_1995', 'R_1996', 'R_1997', 'R_1998', 'R_1999', 'R_2000', 'R_2001', 'R_2002', \n",
    "          'R_2003', 'R_2004', 'R_2005', 'R_2006', 'R_2007', 'R_2008', 'R_2009', 'R_2010', 'R_2011', 'R_2012', 'R_2013', \n",
    "          'R_2014', 'R_2015', 'R_2016', 'R_2017', 'R_2018', 'R_2019', 'SAVI_1984', 'SAVI_1985', 'SAVI_1986', \n",
    "          'SAVI_1987', 'SAVI_1988', 'SAVI_1989', 'SAVI_1990', 'SAVI_1991', 'SAVI_1992', 'SAVI_1993', 'SAVI_1994', \n",
    "          'SAVI_1995', 'SAVI_1996', 'SAVI_1997', 'SAVI_1998', 'SAVI_1999', 'SAVI_2000', 'SAVI_2001', 'SAVI_2002', \n",
    "          'SAVI_2003', 'SAVI_2004', 'SAVI_2005', 'SAVI_2006', 'SAVI_2007', 'SAVI_2008', 'SAVI_2009', 'SAVI_2010', \n",
    "          'SAVI_2011', 'SAVI_2012', 'SAVI_2013', 'SAVI_2014', 'SAVI_2015', 'SAVI_2016', 'SAVI_2017', 'SAVI_2018', \n",
    "          'SAVI_2019', 'SWIR1_1984', 'SWIR1_1985', 'SWIR1_1986', 'SWIR1_1987', 'SWIR1_1988', 'SWIR1_1989', 'SWIR1_1990',\n",
    "          'SWIR1_1991', 'SWIR1_1992', 'SWIR1_1993', 'SWIR1_1994', 'SWIR1_1995', 'SWIR1_1996', 'SWIR1_1997', \n",
    "          'SWIR1_1998', 'SWIR1_1999', 'SWIR1_2000', 'SWIR1_2001', 'SWIR1_2002', 'SWIR1_2003', 'SWIR1_2004', \n",
    "          'SWIR1_2005', 'SWIR1_2006', 'SWIR1_2007', 'SWIR1_2008', 'SWIR1_2009', 'SWIR1_2010', 'SWIR1_2011', \n",
    "          'SWIR1_2012', 'SWIR1_2013', 'SWIR1_2014', 'SWIR1_2015', 'SWIR1_2016', 'SWIR1_2017', 'SWIR1_2018', \n",
    "          'SWIR1_2019', 'SWIR2_1984', 'SWIR2_1985', 'SWIR2_1986', 'SWIR2_1987', 'SWIR2_1988', 'SWIR2_1989', \n",
    "          'SWIR2_1990', 'SWIR2_1991', 'SWIR2_1992', 'SWIR2_1993', 'SWIR2_1994', 'SWIR2_1995', 'SWIR2_1996', \n",
    "          'SWIR2_1997', 'SWIR2_1998', 'SWIR2_1999', 'SWIR2_2000', 'SWIR2_2001', 'SWIR2_2002', 'SWIR2_2003', \n",
    "          'SWIR2_2004', 'SWIR2_2005', 'SWIR2_2006', 'SWIR2_2007', 'SWIR2_2008', 'SWIR2_2009', 'SWIR2_2010', \n",
    "          'SWIR2_2011', 'SWIR2_2012', 'SWIR2_2013', 'SWIR2_2014', 'SWIR2_2015', 'SWIR2_2016', 'SWIR2_2017', \n",
    "          'SWIR2_2018', 'SWIR2_2019', 'sum', 'sum_rnd', 'km2_rnd','ID'\n",
    "]"
   ]
  },
  {
   "cell_type": "code",
   "execution_count": 94,
   "metadata": {
    "colab": {
     "base_uri": "https://localhost:8080/"
    },
    "executionInfo": {
     "elapsed": 629,
     "status": "ok",
     "timestamp": 1615327530981,
     "user": {
      "displayName": "Christian Thomas",
      "photoUrl": "https://lh3.googleusercontent.com/a-/AOh14GhCXQbS7wKdny1Y2eYyyyCBA0sSMj6-kzLt_h3zOA=s64",
      "userId": "01851479097774941674"
     },
     "user_tz": 300
    },
    "id": "EgaLb0WaOSk5",
    "outputId": "84f71991-fd9d-42da-a71e-e6be903d282d"
   },
   "outputs": [
    {
     "name": "stdout",
     "output_type": "stream",
     "text": [
      "        B_1984      B_1985      B_1986  ...  sum_rnd  km2_rnd              ID\n",
      "0   556.961965  488.055975  369.289729  ...    18000   0.0180  2_+40350+59338\n",
      "1   275.633159  403.949661  354.039409  ...    18000   0.0180  2_+40882+59183\n",
      "2   398.428615  319.195364  241.814647  ...    18000   0.0180  2_+41137+58977\n",
      "3  2714.314856  369.267688  263.490743  ...    12600   0.0126  2_+40277+59075\n",
      "4  1897.812679  592.531917  515.562844  ...    12600   0.0126  2_+40699+59065\n",
      "\n",
      "[5 rows x 472 columns]\n",
      "['B_1984', 'B_1985', 'B_1986', 'B_1987', 'B_1988', 'B_1989', 'B_1990', 'B_1991', 'B_1992', 'B_1993', 'B_1994', 'B_1995', 'B_1996', 'B_1997', 'B_1998', 'B_1999', 'B_2000', 'B_2001', 'B_2002', 'B_2003', 'B_2004', 'B_2005', 'B_2006', 'B_2007', 'B_2008', 'B_2009', 'B_2010', 'B_2011', 'B_2012', 'B_2013', 'B_2014', 'B_2015', 'B_2016', 'B_2017', 'B_2018', 'B_2019', 'EVI_1984', 'EVI_1985', 'EVI_1986', 'EVI_1987', 'EVI_1988', 'EVI_1989', 'EVI_1990', 'EVI_1991', 'EVI_1992', 'EVI_1993', 'EVI_1994', 'EVI_1995', 'EVI_1996', 'EVI_1997', 'EVI_1998', 'EVI_1999', 'EVI_2000', 'EVI_2001', 'EVI_2002', 'EVI_2003', 'EVI_2004', 'EVI_2005', 'EVI_2006', 'EVI_2007', 'EVI_2008', 'EVI_2009', 'EVI_2010', 'EVI_2011', 'EVI_2012', 'EVI_2013', 'EVI_2014', 'EVI_2015', 'EVI_2016', 'EVI_2017', 'EVI_2018', 'EVI_2019', 'G_1984', 'G_1985', 'G_1986', 'G_1987', 'G_1988', 'G_1989', 'G_1990', 'G_1991', 'G_1992', 'G_1993', 'G_1994', 'G_1995', 'G_1996', 'G_1997', 'G_1998', 'G_1999', 'G_2000', 'G_2001', 'G_2002', 'G_2003', 'G_2004', 'G_2005', 'G_2006', 'G_2007', 'G_2008', 'G_2009', 'G_2010', 'G_2011', 'G_2012', 'G_2013', 'G_2014', 'G_2015', 'G_2016', 'G_2017', 'G_2018', 'G_2019', 'MSAVI_1984', 'MSAVI_1985', 'MSAVI_1986', 'MSAVI_1987', 'MSAVI_1988', 'MSAVI_1989', 'MSAVI_1990', 'MSAVI_1991', 'MSAVI_1992', 'MSAVI_1993', 'MSAVI_1994', 'MSAVI_1995', 'MSAVI_1996', 'MSAVI_1997', 'MSAVI_1998', 'MSAVI_1999', 'MSAVI_2000', 'MSAVI_2001', 'MSAVI_2002', 'MSAVI_2003', 'MSAVI_2004', 'MSAVI_2005', 'MSAVI_2006', 'MSAVI_2007', 'MSAVI_2008', 'MSAVI_2009', 'MSAVI_2010', 'MSAVI_2011', 'MSAVI_2012', 'MSAVI_2013', 'MSAVI_2014', 'MSAVI_2015', 'MSAVI_2016', 'MSAVI_2017', 'MSAVI_2018', 'MSAVI_2019', 'NBR2_1984', 'NBR2_1985', 'NBR2_1986', 'NBR2_1987', 'NBR2_1988', 'NBR2_1989', 'NBR2_1990', 'NBR2_1991', 'NBR2_1992', 'NBR2_1993', 'NBR2_1994', 'NBR2_1995', 'NBR2_1996', 'NBR2_1997', 'NBR2_1998', 'NBR2_1999', 'NBR2_2000', 'NBR2_2001', 'NBR2_2002', 'NBR2_2003', 'NBR2_2004', 'NBR2_2005', 'NBR2_2006', 'NBR2_2007', 'NBR2_2008', 'NBR2_2009', 'NBR2_2010', 'NBR2_2011', 'NBR2_2012', 'NBR2_2013', 'NBR2_2014', 'NBR2_2015', 'NBR2_2016', 'NBR2_2017', 'NBR2_2018', 'NBR2_2019', 'NBR_1984', 'NBR_1985', 'NBR_1986', 'NBR_1987', 'NBR_1988', 'NBR_1989', 'NBR_1990', 'NBR_1991', 'NBR_1992', 'NBR_1993', 'NBR_1994', 'NBR_1995', 'NBR_1996', 'NBR_1997', 'NBR_1998', 'NBR_1999', 'NBR_2000', 'NBR_2001', 'NBR_2002', 'NBR_2003', 'NBR_2004', 'NBR_2005', 'NBR_2006', 'NBR_2007', 'NBR_2008', 'NBR_2009', 'NBR_2010', 'NBR_2011', 'NBR_2012', 'NBR_2013', 'NBR_2014', 'NBR_2015', 'NBR_2016', 'NBR_2017', 'NBR_2018', 'NBR_2019', 'NDMI_1984', 'NDMI_1985', 'NDMI_1986', 'NDMI_1987', 'NDMI_1988', 'NDMI_1989', 'NDMI_1990', 'NDMI_1991', 'NDMI_1992', 'NDMI_1993', 'NDMI_1994', 'NDMI_1995', 'NDMI_1996', 'NDMI_1997', 'NDMI_1998', 'NDMI_1999', 'NDMI_2000', 'NDMI_2001', 'NDMI_2002', 'NDMI_2003', 'NDMI_2004', 'NDMI_2005', 'NDMI_2006', 'NDMI_2007', 'NDMI_2008', 'NDMI_2009', 'NDMI_2010', 'NDMI_2011', 'NDMI_2012', 'NDMI_2013', 'NDMI_2014', 'NDMI_2015', 'NDMI_2016', 'NDMI_2017', 'NDMI_2018', 'NDMI_2019', 'NDVI_1984', 'NDVI_1985', 'NDVI_1986', 'NDVI_1987', 'NDVI_1988', 'NDVI_1989', 'NDVI_1990', 'NDVI_1991', 'NDVI_1992', 'NDVI_1993', 'NDVI_1994', 'NDVI_1995', 'NDVI_1996', 'NDVI_1997', 'NDVI_1998', 'NDVI_1999', 'NDVI_2000', 'NDVI_2001', 'NDVI_2002', 'NDVI_2003', 'NDVI_2004', 'NDVI_2005', 'NDVI_2006', 'NDVI_2007', 'NDVI_2008', 'NDVI_2009', 'NDVI_2010', 'NDVI_2011', 'NDVI_2012', 'NDVI_2013', 'NDVI_2014', 'NDVI_2015', 'NDVI_2016', 'NDVI_2017', 'NDVI_2018', 'NDVI_2019', 'NIR_1984', 'NIR_1985', 'NIR_1986', 'NIR_1987', 'NIR_1988', 'NIR_1989', 'NIR_1990', 'NIR_1991', 'NIR_1992', 'NIR_1993', 'NIR_1994', 'NIR_1995', 'NIR_1996', 'NIR_1997', 'NIR_1998', 'NIR_1999', 'NIR_2000', 'NIR_2001', 'NIR_2002', 'NIR_2003', 'NIR_2004', 'NIR_2005', 'NIR_2006', 'NIR_2007', 'NIR_2008', 'NIR_2009', 'NIR_2010', 'NIR_2011', 'NIR_2012', 'NIR_2013', 'NIR_2014', 'NIR_2015', 'NIR_2016', 'NIR_2017', 'NIR_2018', 'NIR_2019', 'R_1984', 'R_1985', 'R_1986', 'R_1987', 'R_1988', 'R_1989', 'R_1990', 'R_1991', 'R_1992', 'R_1993', 'R_1994', 'R_1995', 'R_1996', 'R_1997', 'R_1998', 'R_1999', 'R_2000', 'R_2001', 'R_2002', 'R_2003', 'R_2004', 'R_2005', 'R_2006', 'R_2007', 'R_2008', 'R_2009', 'R_2010', 'R_2011', 'R_2012', 'R_2013', 'R_2014', 'R_2015', 'R_2016', 'R_2017', 'R_2018', 'R_2019', 'SAVI_1984', 'SAVI_1985', 'SAVI_1986', 'SAVI_1987', 'SAVI_1988', 'SAVI_1989', 'SAVI_1990', 'SAVI_1991', 'SAVI_1992', 'SAVI_1993', 'SAVI_1994', 'SAVI_1995', 'SAVI_1996', 'SAVI_1997', 'SAVI_1998', 'SAVI_1999', 'SAVI_2000', 'SAVI_2001', 'SAVI_2002', 'SAVI_2003', 'SAVI_2004', 'SAVI_2005', 'SAVI_2006', 'SAVI_2007', 'SAVI_2008', 'SAVI_2009', 'SAVI_2010', 'SAVI_2011', 'SAVI_2012', 'SAVI_2013', 'SAVI_2014', 'SAVI_2015', 'SAVI_2016', 'SAVI_2017', 'SAVI_2018', 'SAVI_2019', 'SWIR1_1984', 'SWIR1_1985', 'SWIR1_1986', 'SWIR1_1987', 'SWIR1_1988', 'SWIR1_1989', 'SWIR1_1990', 'SWIR1_1991', 'SWIR1_1992', 'SWIR1_1993', 'SWIR1_1994', 'SWIR1_1995', 'SWIR1_1996', 'SWIR1_1997', 'SWIR1_1998', 'SWIR1_1999', 'SWIR1_2000', 'SWIR1_2001', 'SWIR1_2002', 'SWIR1_2003', 'SWIR1_2004', 'SWIR1_2005', 'SWIR1_2006', 'SWIR1_2007', 'SWIR1_2008', 'SWIR1_2009', 'SWIR1_2010', 'SWIR1_2011', 'SWIR1_2012', 'SWIR1_2013', 'SWIR1_2014', 'SWIR1_2015', 'SWIR1_2016', 'SWIR1_2017', 'SWIR1_2018', 'SWIR1_2019', 'SWIR2_1984', 'SWIR2_1985', 'SWIR2_1986', 'SWIR2_1987', 'SWIR2_1988', 'SWIR2_1989', 'SWIR2_1990', 'SWIR2_1991', 'SWIR2_1992', 'SWIR2_1993', 'SWIR2_1994', 'SWIR2_1995', 'SWIR2_1996', 'SWIR2_1997', 'SWIR2_1998', 'SWIR2_1999', 'SWIR2_2000', 'SWIR2_2001', 'SWIR2_2002', 'SWIR2_2003', 'SWIR2_2004', 'SWIR2_2005', 'SWIR2_2006', 'SWIR2_2007', 'SWIR2_2008', 'SWIR2_2009', 'SWIR2_2010', 'SWIR2_2011', 'SWIR2_2012', 'SWIR2_2013', 'SWIR2_2014', 'SWIR2_2015', 'SWIR2_2016', 'SWIR2_2017', 'SWIR2_2018', 'SWIR2_2019', 'sum', 'sum_rnd', 'km2_rnd', 'ID']\n"
     ]
    }
   ],
   "source": [
    "# SPECIFY INFILE NAME (CSV)\n",
    "input_dataframe = pd.read_csv(infile_csv)\n",
    "cleaned_dataframe = input_dataframe.drop(['.geo','system:index','ID_x','ID_y','sum_y'], axis=1, errors='ignore')\n",
    "\n",
    "# Create a column with the values from 'sum' rounded to 2 decimal places ('sum_rnd'), create a column which converts the\n",
    "# 'sum_rnd' to kilometers called 'km2_rnd', if it doesn't already exist\n",
    "cleaned_dataframe = cleaned_dataframe.assign(sum_rnd=round(cleaned_dataframe['sum'], 2))\n",
    "cleaned_dataframe = cleaned_dataframe.assign(km2_rnd=cleaned_dataframe['sum_rnd'] / 1000000)\n",
    "\n",
    "# Ensure Band Columns are in the correct order\n",
    "cleaned_dataframe = cleaned_dataframe.reindex(columns=cOrder)\n",
    "print(cleaned_dataframe.head(5))\n",
    "print(list(cleaned_dataframe.columns))"
   ]
  },
  {
   "cell_type": "markdown",
   "metadata": {
    "id": "e-w0O3aQO3VV"
   },
   "source": [
    "# 5. ARM Calculation"
   ]
  },
  {
   "cell_type": "code",
   "execution_count": 95,
   "metadata": {
    "executionInfo": {
     "elapsed": 241,
     "status": "ok",
     "timestamp": 1615327532759,
     "user": {
      "displayName": "Christian Thomas",
      "photoUrl": "https://lh3.googleusercontent.com/a-/AOh14GhCXQbS7wKdny1Y2eYyyyCBA0sSMj6-kzLt_h3zOA=s64",
      "userId": "01851479097774941674"
     },
     "user_tz": 300
    },
    "id": "KtO2IC8zPANw"
   },
   "outputs": [],
   "source": [
    "\"\"\"\n",
    "Note: If your file is processed or ordered differntly, the values in the BAND_DICT may not work. This shouldn't be an \n",
    "      issue for files created using 2020-10-28_sr_annualLastMinedMetrics.ipynb, however if you encounter issues please \n",
    "      contact christian@skytruth.org.\n",
    "\"\"\"\n",
    "ALL_YEARS = list(range(1984, 2020))  # last year with metric data +1\n",
    "YEARS = list(range(1985, 2016))\n",
    "DISPLAY_YEARS = list(range(1980, 2021))\n",
    "\n",
    "BAND_DICT = {\n",
    "    'BLUE':  {'titleName': 'BLUE', 'year': ALL_YEARS, 'start': 0, 'end': 36},\n",
    "    'EVI':   {'titleName': 'EVI', 'year': ALL_YEARS, 'start': 36, 'end': 72},\n",
    "    'GREEN': {'titleName': 'GREEN', 'year': ALL_YEARS, 'start': 72, 'end': 108},\n",
    "    'MSAVI': {'titleName': 'MSAVI', 'year': ALL_YEARS, 'start': 108, 'end': 144}, \n",
    "    'NBR2':  {'titleName': 'NBR2', 'year': ALL_YEARS, 'start': 144, 'end': 180},\n",
    "    'NBR':   {'titleName': 'NBR', 'year': ALL_YEARS, 'start': 180, 'end': 216},\n",
    "    'NDMI':  {'titleName': 'NDMI', 'year': ALL_YEARS, 'start': 216, 'end': 252},\n",
    "    'NDVI':  {'titleName': 'NDVI', 'year': ALL_YEARS, 'start': 252, 'end': 288},\n",
    "    'NIR':   {'titleName': 'NIR', 'year': ALL_YEARS, 'start': 288, 'end': 324},\n",
    "    'RED':   {'titleName': 'RED', 'year': ALL_YEARS, 'start': 324, 'end': 360},\n",
    "    'SAVI':  {'titleName': 'SAVI', 'year': ALL_YEARS, 'start': 360, 'end': 396},\n",
    "    'SWIR1': {'titleName': 'SWIR1', 'year': ALL_YEARS, 'start': 396, 'end': 432},\n",
    "    'SWIR2': {'titleName': 'SWIR2', 'year': ALL_YEARS, 'start': 432, 'end': 468}\n",
    "}"
   ]
  },
  {
   "cell_type": "code",
   "execution_count": 96,
   "metadata": {
    "executionInfo": {
     "elapsed": 248,
     "status": "ok",
     "timestamp": 1615327533964,
     "user": {
      "displayName": "Christian Thomas",
      "photoUrl": "https://lh3.googleusercontent.com/a-/AOh14GhCXQbS7wKdny1Y2eYyyyCBA0sSMj6-kzLt_h3zOA=s64",
      "userId": "01851479097774941674"
     },
     "user_tz": 300
    },
    "id": "zOE72IDrO6Xp"
   },
   "outputs": [],
   "source": [
    "# Set Input Dataframes\n",
    "arm_input_df = cleaned_dataframe\n",
    "epaER_dF = pd.read_csv(epa_file_name)\n",
    "# print(arm_input_df)\n",
    "# print(epaER_dF)"
   ]
  },
  {
   "cell_type": "code",
   "execution_count": 97,
   "metadata": {
    "executionInfo": {
     "elapsed": 56998,
     "status": "ok",
     "timestamp": 1615327592263,
     "user": {
      "displayName": "Christian Thomas",
      "photoUrl": "https://lh3.googleusercontent.com/a-/AOh14GhCXQbS7wKdny1Y2eYyyyCBA0sSMj6-kzLt_h3zOA=s64",
      "userId": "01851479097774941674"
     },
     "user_tz": 300
    },
    "id": "3c_RWl6nQIHi"
   },
   "outputs": [],
   "source": [
    "# The Aggregated Recovery Metric (ARM) is calculated: ( ( ( ( NDVI + NBR ) / 2) + NDMI ) / 2 )\n",
    "band1 = 'NDVI'\n",
    "band2 = 'NBR'\n",
    "band3 = 'NDMI'\n",
    "band1_input = BAND_DICT[band1]\n",
    "band2_input = BAND_DICT[band2]\n",
    "band3_input = BAND_DICT[band3]\n",
    "col_start1 = band1_input['start']\n",
    "col_start2 = band2_input['start']\n",
    "col_start3 = band3_input['start']\n",
    "col_end1 = band1_input['end']\n",
    "col_end2 = band2_input['end']\n",
    "col_end3 = band3_input['end']\n",
    "\n",
    "x = arm_input_df\n",
    "id_list = []\n",
    "x2 = pd.DataFrame()\n",
    "for i in range(0, len(x.ID)):\n",
    "  site_id = x.ID[i]\n",
    "  id_list.append(site_id)\n",
    "  single_id = arm_input_df[arm_input_df.ID == site_id]\n",
    "  site_1 = single_id[single_id.columns[col_start1:col_end1]]\n",
    "  site_2 = single_id[single_id.columns[col_start2:col_end2]]\n",
    "  site_3 = single_id[single_id.columns[col_start3:col_end3]]\n",
    "  transposed_site_1 = site_1.T\n",
    "  transposed_site_2 = site_2.T\n",
    "  transposed_site_3 = site_3.T\n",
    "  site_1_vis = []\n",
    "  site_2_vis = []\n",
    "  site_3_vis = []\n",
    "  site_1_yis = []\n",
    "  site_2_yis = []\n",
    "  site_3_yis = []\n",
    "  for row in transposed_site_1.index:\n",
    "      vegi_index = row.rsplit('_', 1)[0]\n",
    "      year_index = row.rsplit('_', 1)[1]\n",
    "      site_1_vis.append(vegi_index)\n",
    "      site_1_yis.append(year_index)\n",
    "  for row in transposed_site_2.index:\n",
    "      vegi_index = row.rsplit('_', 1)[0]\n",
    "      year_index = row.rsplit('_', 1)[1]\n",
    "      site_2_vis.append(vegi_index)\n",
    "      site_2_yis.append(year_index)\n",
    "  for row in transposed_site_3.index:\n",
    "      vegi_index = row.rsplit('_', 1)[0]\n",
    "      year_index = row.rsplit('_', 1)[1]\n",
    "      site_3_vis.append(vegi_index)\n",
    "      site_3_yis.append(year_index)\n",
    "  transposed_site_1.insert(loc=0, column='e_veg_index', value=site_1_vis)\n",
    "  transposed_site_1.insert(loc=1, column='e_index_year', value=site_1_yis)\n",
    "  transposed_site_2.insert(loc=0, column='e_veg_index', value=site_2_vis)\n",
    "  transposed_site_2.insert(loc=1, column='e_index_year', value=site_2_yis)\n",
    "  transposed_site_3.insert(loc=0, column='e_veg_index', value=site_3_vis)\n",
    "  transposed_site_3.insert(loc=1, column='e_index_year', value=site_3_yis)\n",
    "  processed_site_1 = transposed_site_1.pivot(index='e_index_year', columns='e_veg_index')\n",
    "  processed_site_2 = transposed_site_2.pivot(index='e_index_year', columns='e_veg_index')\n",
    "  processed_site_3 = transposed_site_3.pivot(index='e_index_year', columns='e_veg_index')\n",
    "  site_1_mean = processed_site_1.mean(axis=1)\n",
    "  site_2_mean = processed_site_2.mean(axis=1)\n",
    "  site_3_mean = processed_site_3.mean(axis=1)\n",
    "  site_arm_mean = ((((site_1_mean + site_2_mean) / 2) + site_3_mean) / 2)\n",
    "  ######################################################################################################################  \n",
    "  # IF THE ARM IS NOT DIVIDED BY THE ECOREGION ARM, IT IS RAW_ARM\n",
    "  arm_transposed = pd.DataFrame(site_arm_mean).T\n",
    "  arm_transposed.columns = ['raw_arm_'+str(col) for col in arm_transposed.columns]\n",
    "  id_arm = arm_transposed.assign(sid=site_id)\n",
    "  xdf = x[['sum', 'sum_rnd', 'km2_rnd', 'ID',]]\n",
    "\n",
    "  ww = pd.merge(xdf, id_arm, left_on='ID', right_on='sid', how='left').drop('sid', axis=1)\n",
    "  x2 = x2.append(pd.DataFrame(id_arm))\n",
    "  df = pd.concat([xdf.reset_index(drop=True), arm_transposed.reset_index(drop=True)], axis=1) # (drop=Tru‌​e)], axis=1)\n",
    "  fin = pd.merge(xdf, x2, left_on='ID', right_on='sid', how='left').drop('sid', axis=1)\n",
    "\n",
    "#  # fin.to_csv(export_name, index=False)"
   ]
  },
  {
   "cell_type": "markdown",
   "metadata": {
    "id": "IJLDp8VEQm_a"
   },
   "source": [
    "# 6. ARM - GeoJSON Matching"
   ]
  },
  {
   "cell_type": "code",
   "execution_count": 98,
   "metadata": {
    "executionInfo": {
     "elapsed": 413,
     "status": "ok",
     "timestamp": 1615327596795,
     "user": {
      "displayName": "Christian Thomas",
      "photoUrl": "https://lh3.googleusercontent.com/a-/AOh14GhCXQbS7wKdny1Y2eYyyyCBA0sSMj6-kzLt_h3zOA=s64",
      "userId": "01851479097774941674"
     },
     "user_tz": 300
    },
    "id": "r_tzN_7nl_eT"
   },
   "outputs": [],
   "source": [
    "cOrder2 = ['B_1984', 'B_1985', 'B_1986', 'B_1987', 'B_1988', 'B_1989', 'B_1990', 'B_1991', 'B_1992', 'B_1993', 'B_1994', \n",
    "          'B_1995', 'B_1996', 'B_1997', 'B_1998', 'B_1999', 'B_2000', 'B_2001', 'B_2002', 'B_2003', 'B_2004', 'B_2005', \n",
    "          'B_2006', 'B_2007', 'B_2008', 'B_2009', 'B_2010', 'B_2011', 'B_2012', 'B_2013', 'B_2014', 'B_2015', 'B_2016', \n",
    "          'B_2017', 'B_2018', 'B_2019', 'EVI_1984', 'EVI_1985', 'EVI_1986', 'EVI_1987', 'EVI_1988', 'EVI_1989', \n",
    "          'EVI_1990', 'EVI_1991', 'EVI_1992', 'EVI_1993', 'EVI_1994', 'EVI_1995', 'EVI_1996', 'EVI_1997', 'EVI_1998', \n",
    "          'EVI_1999', 'EVI_2000', 'EVI_2001', 'EVI_2002', 'EVI_2003', 'EVI_2004', 'EVI_2005', 'EVI_2006', 'EVI_2007', \n",
    "          'EVI_2008', 'EVI_2009', 'EVI_2010', 'EVI_2011', 'EVI_2012', 'EVI_2013', 'EVI_2014', 'EVI_2015', 'EVI_2016', \n",
    "          'EVI_2017', 'EVI_2018', 'EVI_2019', 'G_1984', 'G_1985', 'G_1986', 'G_1987', 'G_1988', 'G_1989', 'G_1990', \n",
    "          'G_1991', 'G_1992', 'G_1993', 'G_1994', 'G_1995', 'G_1996', 'G_1997', 'G_1998', 'G_1999', 'G_2000', 'G_2001', \n",
    "          'G_2002', 'G_2003', 'G_2004', 'G_2005',  'G_2006', 'G_2007', 'G_2008', 'G_2009', 'G_2010', 'G_2011', 'G_2012',\n",
    "          'G_2013', 'G_2014', 'G_2015', 'G_2016', 'G_2017', 'G_2018', 'G_2019', 'MSAVI_1984', 'MSAVI_1985', \n",
    "          'MSAVI_1986', 'MSAVI_1987', 'MSAVI_1988', 'MSAVI_1989', 'MSAVI_1990', 'MSAVI_1991', 'MSAVI_1992', \n",
    "          'MSAVI_1993', 'MSAVI_1994', 'MSAVI_1995', 'MSAVI_1996', 'MSAVI_1997', 'MSAVI_1998', 'MSAVI_1999', \n",
    "          'MSAVI_2000', 'MSAVI_2001', 'MSAVI_2002', 'MSAVI_2003', 'MSAVI_2004', 'MSAVI_2005', 'MSAVI_2006', \n",
    "          'MSAVI_2007', 'MSAVI_2008', 'MSAVI_2009', 'MSAVI_2010', 'MSAVI_2011', 'MSAVI_2012', 'MSAVI_2013', \n",
    "          'MSAVI_2014', 'MSAVI_2015', 'MSAVI_2016', 'MSAVI_2017', 'MSAVI_2018', 'MSAVI_2019', 'NBR2_1984', 'NBR2_1985', \n",
    "          'NBR2_1986', 'NBR2_1987', 'NBR2_1988', 'NBR2_1989', 'NBR2_1990', 'NBR2_1991', 'NBR2_1992', 'NBR2_1993', \n",
    "          'NBR2_1994', 'NBR2_1995', 'NBR2_1996', 'NBR2_1997', 'NBR2_1998', 'NBR2_1999', 'NBR2_2000', 'NBR2_2001', \n",
    "          'NBR2_2002', 'NBR2_2003', 'NBR2_2004', 'NBR2_2005', 'NBR2_2006', 'NBR2_2007', 'NBR2_2008', 'NBR2_2009', \n",
    "          'NBR2_2010', 'NBR2_2011', 'NBR2_2012', 'NBR2_2013', 'NBR2_2014', 'NBR2_2015', 'NBR2_2016', 'NBR2_2017', \n",
    "          'NBR2_2018', 'NBR2_2019', 'NBR_1984', 'NBR_1985', 'NBR_1986', 'NBR_1987', 'NBR_1988', 'NBR_1989', 'NBR_1990', \n",
    "          'NBR_1991', 'NBR_1992', 'NBR_1993', 'NBR_1994', 'NBR_1995', 'NBR_1996', 'NBR_1997', 'NBR_1998', 'NBR_1999', \n",
    "          'NBR_2000', 'NBR_2001', 'NBR_2002', 'NBR_2003', 'NBR_2004', 'NBR_2005', 'NBR_2006', 'NBR_2007', 'NBR_2008', \n",
    "          'NBR_2009', 'NBR_2010', 'NBR_2011', 'NBR_2012', 'NBR_2013', 'NBR_2014', 'NBR_2015', 'NBR_2016', 'NBR_2017', \n",
    "          'NBR_2018', 'NBR_2019', 'NDMI_1984', 'NDMI_1985', 'NDMI_1986', 'NDMI_1987', 'NDMI_1988', 'NDMI_1989', \n",
    "          'NDMI_1990', 'NDMI_1991', 'NDMI_1992', 'NDMI_1993', 'NDMI_1994', 'NDMI_1995', 'NDMI_1996', 'NDMI_1997', \n",
    "          'NDMI_1998', 'NDMI_1999', 'NDMI_2000', 'NDMI_2001', 'NDMI_2002', 'NDMI_2003', 'NDMI_2004', 'NDMI_2005', \n",
    "          'NDMI_2006', 'NDMI_2007', 'NDMI_2008', 'NDMI_2009', 'NDMI_2010', 'NDMI_2011', 'NDMI_2012', 'NDMI_2013', \n",
    "          'NDMI_2014', 'NDMI_2015', 'NDMI_2016', 'NDMI_2017', 'NDMI_2018', 'NDMI_2019', 'NDVI_1984', 'NDVI_1985', \n",
    "          'NDVI_1986', 'NDVI_1987', 'NDVI_1988', 'NDVI_1989', 'NDVI_1990', 'NDVI_1991', 'NDVI_1992', 'NDVI_1993', \n",
    "          'NDVI_1994', 'NDVI_1995', 'NDVI_1996', 'NDVI_1997', 'NDVI_1998', 'NDVI_1999', 'NDVI_2000', 'NDVI_2001', \n",
    "          'NDVI_2002', 'NDVI_2003', 'NDVI_2004', 'NDVI_2005', 'NDVI_2006', 'NDVI_2007', 'NDVI_2008', 'NDVI_2009', \n",
    "          'NDVI_2010', 'NDVI_2011', 'NDVI_2012', 'NDVI_2013', 'NDVI_2014', 'NDVI_2015', 'NDVI_2016', 'NDVI_2017', \n",
    "          'NDVI_2018', 'NDVI_2019', 'NIR_1984', 'NIR_1985', 'NIR_1986', 'NIR_1987', 'NIR_1988', 'NIR_1989', 'NIR_1990', \n",
    "          'NIR_1991', 'NIR_1992', 'NIR_1993', 'NIR_1994', 'NIR_1995', 'NIR_1996', 'NIR_1997', 'NIR_1998', 'NIR_1999', \n",
    "          'NIR_2000', 'NIR_2001', 'NIR_2002', 'NIR_2003', 'NIR_2004', 'NIR_2005', 'NIR_2006', 'NIR_2007', 'NIR_2008', \n",
    "          'NIR_2009', 'NIR_2010', 'NIR_2011', 'NIR_2012', 'NIR_2013', 'NIR_2014', 'NIR_2015', 'NIR_2016', 'NIR_2017', \n",
    "          'NIR_2018', 'NIR_2019', 'R_1984', 'R_1985', 'R_1986', 'R_1987', 'R_1988', 'R_1989', 'R_1990', 'R_1991', \n",
    "          'R_1992', 'R_1993', 'R_1994', 'R_1995', 'R_1996', 'R_1997', 'R_1998', 'R_1999', 'R_2000', 'R_2001', 'R_2002', \n",
    "          'R_2003', 'R_2004', 'R_2005', 'R_2006', 'R_2007', 'R_2008', 'R_2009', 'R_2010', 'R_2011', 'R_2012', 'R_2013', \n",
    "          'R_2014', 'R_2015', 'R_2016', 'R_2017', 'R_2018', 'R_2019', 'SAVI_1984', 'SAVI_1985', 'SAVI_1986', \n",
    "          'SAVI_1987', 'SAVI_1988', 'SAVI_1989', 'SAVI_1990', 'SAVI_1991', 'SAVI_1992', 'SAVI_1993', 'SAVI_1994', \n",
    "          'SAVI_1995', 'SAVI_1996', 'SAVI_1997', 'SAVI_1998', 'SAVI_1999', 'SAVI_2000', 'SAVI_2001', 'SAVI_2002', \n",
    "          'SAVI_2003', 'SAVI_2004', 'SAVI_2005', 'SAVI_2006', 'SAVI_2007', 'SAVI_2008', 'SAVI_2009', 'SAVI_2010', \n",
    "          'SAVI_2011', 'SAVI_2012', 'SAVI_2013', 'SAVI_2014', 'SAVI_2015', 'SAVI_2016', 'SAVI_2017', 'SAVI_2018', \n",
    "          'SAVI_2019', 'SWIR1_1984', 'SWIR1_1985', 'SWIR1_1986', 'SWIR1_1987', 'SWIR1_1988', 'SWIR1_1989', 'SWIR1_1990',\n",
    "          'SWIR1_1991', 'SWIR1_1992', 'SWIR1_1993', 'SWIR1_1994', 'SWIR1_1995', 'SWIR1_1996', 'SWIR1_1997', \n",
    "          'SWIR1_1998', 'SWIR1_1999', 'SWIR1_2000', 'SWIR1_2001', 'SWIR1_2002', 'SWIR1_2003', 'SWIR1_2004', \n",
    "          'SWIR1_2005', 'SWIR1_2006', 'SWIR1_2007', 'SWIR1_2008', 'SWIR1_2009', 'SWIR1_2010', 'SWIR1_2011', \n",
    "          'SWIR1_2012', 'SWIR1_2013', 'SWIR1_2014', 'SWIR1_2015', 'SWIR1_2016', 'SWIR1_2017', 'SWIR1_2018', \n",
    "          'SWIR1_2019', 'SWIR2_1984', 'SWIR2_1985', 'SWIR2_1986', 'SWIR2_1987', 'SWIR2_1988', 'SWIR2_1989', \n",
    "          'SWIR2_1990', 'SWIR2_1991', 'SWIR2_1992', 'SWIR2_1993', 'SWIR2_1994', 'SWIR2_1995', 'SWIR2_1996', \n",
    "          'SWIR2_1997', 'SWIR2_1998', 'SWIR2_1999', 'SWIR2_2000', 'SWIR2_2001', 'SWIR2_2002', 'SWIR2_2003', \n",
    "          'SWIR2_2004', 'SWIR2_2005', 'SWIR2_2006', 'SWIR2_2007', 'SWIR2_2008', 'SWIR2_2009', 'SWIR2_2010', \n",
    "          'SWIR2_2011', 'SWIR2_2012', 'SWIR2_2013', 'SWIR2_2014', 'SWIR2_2015', 'SWIR2_2016', 'SWIR2_2017', \n",
    "          'SWIR2_2018', 'SWIR2_2019', 'raw_arm_1984', 'raw_arm_1985', 'raw_arm_1986', 'raw_arm_1987', 'raw_arm_1988', \n",
    "          'raw_arm_1989', 'raw_arm_1990', 'raw_arm_1991', 'raw_arm_1992', 'raw_arm_1993', 'raw_arm_1994', \n",
    "          'raw_arm_1995', 'raw_arm_1996', 'raw_arm_1997', 'raw_arm_1998', 'raw_arm_1999', 'raw_arm_2000', \n",
    "          'raw_arm_2001', 'raw_arm_2002', 'raw_arm_2003', 'raw_arm_2004', 'raw_arm_2005', 'raw_arm_2006', \n",
    "          'raw_arm_2007', 'raw_arm_2008', 'raw_arm_2009', 'raw_arm_2010', 'raw_arm_2011', 'raw_arm_2012', \n",
    "          'raw_arm_2013', 'raw_arm_2014', 'raw_arm_2015', 'raw_arm_2016', 'raw_arm_2017', 'raw_arm_2018', \n",
    "          'raw_arm_2019','sum', 'sum_rnd', 'km2_rnd', 'ID', 'geometry'\n",
    "]"
   ]
  },
  {
   "cell_type": "code",
   "execution_count": 99,
   "metadata": {
    "executionInfo": {
     "elapsed": 11566,
     "status": "ok",
     "timestamp": 1615327610182,
     "user": {
      "displayName": "Christian Thomas",
      "photoUrl": "https://lh3.googleusercontent.com/a-/AOh14GhCXQbS7wKdny1Y2eYyyyCBA0sSMj6-kzLt_h3zOA=s64",
      "userId": "01851479097774941674"
     },
     "user_tz": 300
    },
    "id": "h-GqsKoftaq0"
   },
   "outputs": [],
   "source": [
    "# Set Input GeoJSON\n",
    "gdf = gpd.read_file(infile_gjs) # geojson file\n",
    "pdf = fin # CSV file"
   ]
  },
  {
   "cell_type": "code",
   "execution_count": 100,
   "metadata": {
    "executionInfo": {
     "elapsed": 247,
     "status": "ok",
     "timestamp": 1615327616510,
     "user": {
      "displayName": "Christian Thomas",
      "photoUrl": "https://lh3.googleusercontent.com/a-/AOh14GhCXQbS7wKdny1Y2eYyyyCBA0sSMj6-kzLt_h3zOA=s64",
      "userId": "01851479097774941674"
     },
     "user_tz": 300
    },
    "id": "hjDTcMy8QsR3"
   },
   "outputs": [],
   "source": [
    "# DECLARE ID COLUMN TO MATCH ON (CASE SENSITIVE), IF ID Column data is a string\n",
    "gdf['id'] = gdf.ID\n",
    "\n",
    "# # DECLARE ID COLUMN TO MATCH ON (CASE SENSITIVE), IF ID Column data is an integer\n",
    "# gdf['id'] = gdf.ID.astype('int64')"
   ]
  },
  {
   "cell_type": "code",
   "execution_count": 101,
   "metadata": {
    "colab": {
     "base_uri": "https://localhost:8080/"
    },
    "executionInfo": {
     "elapsed": 436,
     "status": "ok",
     "timestamp": 1615327617990,
     "user": {
      "displayName": "Christian Thomas",
      "photoUrl": "https://lh3.googleusercontent.com/a-/AOh14GhCXQbS7wKdny1Y2eYyyyCBA0sSMj6-kzLt_h3zOA=s64",
      "userId": "01851479097774941674"
     },
     "user_tz": 300
    },
    "id": "7Yd0-7motdp4",
    "outputId": "24dddb57-2073-45dc-bfed-b05e89892973"
   },
   "outputs": [
    {
     "name": "stdout",
     "output_type": "stream",
     "text": [
      "['B_1984', 'B_1985', 'B_1986', 'B_1987', 'B_1988', 'B_1989', 'B_1990', 'B_1991', 'B_1992', 'B_1993', 'B_1994', 'B_1995', 'B_1996', 'B_1997', 'B_1998', 'B_1999', 'B_2000', 'B_2001', 'B_2002', 'B_2003', 'B_2004', 'B_2005', 'B_2006', 'B_2007', 'B_2008', 'B_2009', 'B_2010', 'B_2011', 'B_2012', 'B_2013', 'B_2014', 'B_2015', 'B_2016', 'B_2017', 'B_2018', 'B_2019', 'EVI_1984', 'EVI_1985', 'EVI_1986', 'EVI_1987', 'EVI_1988', 'EVI_1989', 'EVI_1990', 'EVI_1991', 'EVI_1992', 'EVI_1993', 'EVI_1994', 'EVI_1995', 'EVI_1996', 'EVI_1997', 'EVI_1998', 'EVI_1999', 'EVI_2000', 'EVI_2001', 'EVI_2002', 'EVI_2003', 'EVI_2004', 'EVI_2005', 'EVI_2006', 'EVI_2007', 'EVI_2008', 'EVI_2009', 'EVI_2010', 'EVI_2011', 'EVI_2012', 'EVI_2013', 'EVI_2014', 'EVI_2015', 'EVI_2016', 'EVI_2017', 'EVI_2018', 'EVI_2019', 'G_1984', 'G_1985', 'G_1986', 'G_1987', 'G_1988', 'G_1989', 'G_1990', 'G_1991', 'G_1992', 'G_1993', 'G_1994', 'G_1995', 'G_1996', 'G_1997', 'G_1998', 'G_1999', 'G_2000', 'G_2001', 'G_2002', 'G_2003', 'G_2004', 'G_2005', 'G_2006', 'G_2007', 'G_2008', 'G_2009', 'G_2010', 'G_2011', 'G_2012', 'G_2013', 'G_2014', 'G_2015', 'G_2016', 'G_2017', 'G_2018', 'G_2019', 'MSAVI_1984', 'MSAVI_1985', 'MSAVI_1986', 'MSAVI_1987', 'MSAVI_1988', 'MSAVI_1989', 'MSAVI_1990', 'MSAVI_1991', 'MSAVI_1992', 'MSAVI_1993', 'MSAVI_1994', 'MSAVI_1995', 'MSAVI_1996', 'MSAVI_1997', 'MSAVI_1998', 'MSAVI_1999', 'MSAVI_2000', 'MSAVI_2001', 'MSAVI_2002', 'MSAVI_2003', 'MSAVI_2004', 'MSAVI_2005', 'MSAVI_2006', 'MSAVI_2007', 'MSAVI_2008', 'MSAVI_2009', 'MSAVI_2010', 'MSAVI_2011', 'MSAVI_2012', 'MSAVI_2013', 'MSAVI_2014', 'MSAVI_2015', 'MSAVI_2016', 'MSAVI_2017', 'MSAVI_2018', 'MSAVI_2019', 'NBR2_1984', 'NBR2_1985', 'NBR2_1986', 'NBR2_1987', 'NBR2_1988', 'NBR2_1989', 'NBR2_1990', 'NBR2_1991', 'NBR2_1992', 'NBR2_1993', 'NBR2_1994', 'NBR2_1995', 'NBR2_1996', 'NBR2_1997', 'NBR2_1998', 'NBR2_1999', 'NBR2_2000', 'NBR2_2001', 'NBR2_2002', 'NBR2_2003', 'NBR2_2004', 'NBR2_2005', 'NBR2_2006', 'NBR2_2007', 'NBR2_2008', 'NBR2_2009', 'NBR2_2010', 'NBR2_2011', 'NBR2_2012', 'NBR2_2013', 'NBR2_2014', 'NBR2_2015', 'NBR2_2016', 'NBR2_2017', 'NBR2_2018', 'NBR2_2019', 'NBR_1984', 'NBR_1985', 'NBR_1986', 'NBR_1987', 'NBR_1988', 'NBR_1989', 'NBR_1990', 'NBR_1991', 'NBR_1992', 'NBR_1993', 'NBR_1994', 'NBR_1995', 'NBR_1996', 'NBR_1997', 'NBR_1998', 'NBR_1999', 'NBR_2000', 'NBR_2001', 'NBR_2002', 'NBR_2003', 'NBR_2004', 'NBR_2005', 'NBR_2006', 'NBR_2007', 'NBR_2008', 'NBR_2009', 'NBR_2010', 'NBR_2011', 'NBR_2012', 'NBR_2013', 'NBR_2014', 'NBR_2015', 'NBR_2016', 'NBR_2017', 'NBR_2018', 'NBR_2019', 'NDMI_1984', 'NDMI_1985', 'NDMI_1986', 'NDMI_1987', 'NDMI_1988', 'NDMI_1989', 'NDMI_1990', 'NDMI_1991', 'NDMI_1992', 'NDMI_1993', 'NDMI_1994', 'NDMI_1995', 'NDMI_1996', 'NDMI_1997', 'NDMI_1998', 'NDMI_1999', 'NDMI_2000', 'NDMI_2001', 'NDMI_2002', 'NDMI_2003', 'NDMI_2004', 'NDMI_2005', 'NDMI_2006', 'NDMI_2007', 'NDMI_2008', 'NDMI_2009', 'NDMI_2010', 'NDMI_2011', 'NDMI_2012', 'NDMI_2013', 'NDMI_2014', 'NDMI_2015', 'NDMI_2016', 'NDMI_2017', 'NDMI_2018', 'NDMI_2019', 'NDVI_1984', 'NDVI_1985', 'NDVI_1986', 'NDVI_1987', 'NDVI_1988', 'NDVI_1989', 'NDVI_1990', 'NDVI_1991', 'NDVI_1992', 'NDVI_1993', 'NDVI_1994', 'NDVI_1995', 'NDVI_1996', 'NDVI_1997', 'NDVI_1998', 'NDVI_1999', 'NDVI_2000', 'NDVI_2001', 'NDVI_2002', 'NDVI_2003', 'NDVI_2004', 'NDVI_2005', 'NDVI_2006', 'NDVI_2007', 'NDVI_2008', 'NDVI_2009', 'NDVI_2010', 'NDVI_2011', 'NDVI_2012', 'NDVI_2013', 'NDVI_2014', 'NDVI_2015', 'NDVI_2016', 'NDVI_2017', 'NDVI_2018', 'NDVI_2019', 'NIR_1984', 'NIR_1985', 'NIR_1986', 'NIR_1987', 'NIR_1988', 'NIR_1989', 'NIR_1990', 'NIR_1991', 'NIR_1992', 'NIR_1993', 'NIR_1994', 'NIR_1995', 'NIR_1996', 'NIR_1997', 'NIR_1998', 'NIR_1999', 'NIR_2000', 'NIR_2001', 'NIR_2002', 'NIR_2003', 'NIR_2004', 'NIR_2005', 'NIR_2006', 'NIR_2007', 'NIR_2008', 'NIR_2009', 'NIR_2010', 'NIR_2011', 'NIR_2012', 'NIR_2013', 'NIR_2014', 'NIR_2015', 'NIR_2016', 'NIR_2017', 'NIR_2018', 'NIR_2019', 'R_1984', 'R_1985', 'R_1986', 'R_1987', 'R_1988', 'R_1989', 'R_1990', 'R_1991', 'R_1992', 'R_1993', 'R_1994', 'R_1995', 'R_1996', 'R_1997', 'R_1998', 'R_1999', 'R_2000', 'R_2001', 'R_2002', 'R_2003', 'R_2004', 'R_2005', 'R_2006', 'R_2007', 'R_2008', 'R_2009', 'R_2010', 'R_2011', 'R_2012', 'R_2013', 'R_2014', 'R_2015', 'R_2016', 'R_2017', 'R_2018', 'R_2019', 'SAVI_1984', 'SAVI_1985', 'SAVI_1986', 'SAVI_1987', 'SAVI_1988', 'SAVI_1989', 'SAVI_1990', 'SAVI_1991', 'SAVI_1992', 'SAVI_1993', 'SAVI_1994', 'SAVI_1995', 'SAVI_1996', 'SAVI_1997', 'SAVI_1998', 'SAVI_1999', 'SAVI_2000', 'SAVI_2001', 'SAVI_2002', 'SAVI_2003', 'SAVI_2004', 'SAVI_2005', 'SAVI_2006', 'SAVI_2007', 'SAVI_2008', 'SAVI_2009', 'SAVI_2010', 'SAVI_2011', 'SAVI_2012', 'SAVI_2013', 'SAVI_2014', 'SAVI_2015', 'SAVI_2016', 'SAVI_2017', 'SAVI_2018', 'SAVI_2019', 'SWIR1_1984', 'SWIR1_1985', 'SWIR1_1986', 'SWIR1_1987', 'SWIR1_1988', 'SWIR1_1989', 'SWIR1_1990', 'SWIR1_1991', 'SWIR1_1992', 'SWIR1_1993', 'SWIR1_1994', 'SWIR1_1995', 'SWIR1_1996', 'SWIR1_1997', 'SWIR1_1998', 'SWIR1_1999', 'SWIR1_2000', 'SWIR1_2001', 'SWIR1_2002', 'SWIR1_2003', 'SWIR1_2004', 'SWIR1_2005', 'SWIR1_2006', 'SWIR1_2007', 'SWIR1_2008', 'SWIR1_2009', 'SWIR1_2010', 'SWIR1_2011', 'SWIR1_2012', 'SWIR1_2013', 'SWIR1_2014', 'SWIR1_2015', 'SWIR1_2016', 'SWIR1_2017', 'SWIR1_2018', 'SWIR1_2019', 'SWIR2_1984', 'SWIR2_1985', 'SWIR2_1986', 'SWIR2_1987', 'SWIR2_1988', 'SWIR2_1989', 'SWIR2_1990', 'SWIR2_1991', 'SWIR2_1992', 'SWIR2_1993', 'SWIR2_1994', 'SWIR2_1995', 'SWIR2_1996', 'SWIR2_1997', 'SWIR2_1998', 'SWIR2_1999', 'SWIR2_2000', 'SWIR2_2001', 'SWIR2_2002', 'SWIR2_2003', 'SWIR2_2004', 'SWIR2_2005', 'SWIR2_2006', 'SWIR2_2007', 'SWIR2_2008', 'SWIR2_2009', 'SWIR2_2010', 'SWIR2_2011', 'SWIR2_2012', 'SWIR2_2013', 'SWIR2_2014', 'SWIR2_2015', 'SWIR2_2016', 'SWIR2_2017', 'SWIR2_2018', 'SWIR2_2019', 'raw_arm_1984', 'raw_arm_1985', 'raw_arm_1986', 'raw_arm_1987', 'raw_arm_1988', 'raw_arm_1989', 'raw_arm_1990', 'raw_arm_1991', 'raw_arm_1992', 'raw_arm_1993', 'raw_arm_1994', 'raw_arm_1995', 'raw_arm_1996', 'raw_arm_1997', 'raw_arm_1998', 'raw_arm_1999', 'raw_arm_2000', 'raw_arm_2001', 'raw_arm_2002', 'raw_arm_2003', 'raw_arm_2004', 'raw_arm_2005', 'raw_arm_2006', 'raw_arm_2007', 'raw_arm_2008', 'raw_arm_2009', 'raw_arm_2010', 'raw_arm_2011', 'raw_arm_2012', 'raw_arm_2013', 'raw_arm_2014', 'raw_arm_2015', 'raw_arm_2016', 'raw_arm_2017', 'raw_arm_2018', 'raw_arm_2019', 'sum', 'sum_rnd', 'km2_rnd', 'ID', 'geometry']\n"
     ]
    }
   ],
   "source": [
    "# JOIN GEOJSON AND ARM DATA\n",
    "joined_df = gdf.merge(pdf, left_on='id', right_on='ID', how='left')\n",
    "\n",
    "finalDataframe = joined_df.drop(['id','ID_y','sum_y','JUNK'], axis=1, errors='ignore').rename(columns={'ID_x': 'ID', 'sum_x': 'sum'})\n",
    "\n",
    "# Final Data Reorder\n",
    "finalDataframe = finalDataframe.reindex(columns=cOrder2)\n",
    "print(list(finalDataframe.columns))\n",
    "# print(finalDataframe.head(1))"
   ]
  },
  {
   "cell_type": "markdown",
   "metadata": {
    "id": "lQURN8ArsZbY"
   },
   "source": [
    "# 7. Data Export"
   ]
  },
  {
   "cell_type": "code",
   "execution_count": 102,
   "metadata": {
    "colab": {
     "base_uri": "https://localhost:8080/"
    },
    "executionInfo": {
     "elapsed": 101360,
     "status": "ok",
     "timestamp": 1615327720675,
     "user": {
      "displayName": "Christian Thomas",
      "photoUrl": "https://lh3.googleusercontent.com/a-/AOh14GhCXQbS7wKdny1Y2eYyyyCBA0sSMj6-kzLt_h3zOA=s64",
      "userId": "01851479097774941674"
     },
     "user_tz": 300
    },
    "id": "X0ktz16TsgG6",
    "outputId": "18d0f681-1f8c-4c6c-eb9e-5847bfe79874"
   },
   "outputs": [
    {
     "name": "stdout",
     "output_type": "stream",
     "text": [
      "Exporting: Output_Data/TEST_OUTPUT_lastMined_raw_ARM_noEcoregion_noLM.geojson to Drive\n"
     ]
    }
   ],
   "source": [
    "# Export the final product\n",
    "print('Exporting: '+geojson_export+' to Drive')\n",
    "finalDataframe.to_file(geojson_export, driver=\"GeoJSON\")"
   ]
  }
 ],
 "metadata": {
  "colab": {
   "authorship_tag": "ABX9TyOabaaeeaO5i1dqSda2yOGN",
   "name": "2021-03-09_comprehensiveProcessing_noEcoregion_noLastMined.ipynb",
   "provenance": []
  },
  "kernelspec": {
   "display_name": "Python 3",
   "name": "python3"
  }
 },
 "nbformat": 4,
 "nbformat_minor": 0
}
