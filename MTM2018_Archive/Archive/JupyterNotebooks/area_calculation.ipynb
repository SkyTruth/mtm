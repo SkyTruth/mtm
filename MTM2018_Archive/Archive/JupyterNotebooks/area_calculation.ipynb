{
 "cells": [
  {
   "cell_type": "code",
   "execution_count": 153,
   "metadata": {
    "collapsed": false
   },
   "outputs": [],
   "source": [
    "import ee\n",
    "import datetime\n",
    "import time\n",
    "import matplotlib.pyplot as plt\n",
    "import matplotlib\n",
    "%matplotlib inline"
   ]
  },
  {
   "cell_type": "code",
   "execution_count": 22,
   "metadata": {
    "collapsed": true
   },
   "outputs": [],
   "source": [
    "ee.Initialize()\n"
   ]
  },
  {
   "cell_type": "code",
   "execution_count": 139,
   "metadata": {
    "collapsed": false,
    "scrolled": false
   },
   "outputs": [],
   "source": [
    "'''###########################################/\n",
    "   This script was created by SkyTruth to identify possible active mountaintop removal \n",
    "   and other surface coal mining.\n",
    "   \n",
    "   Playground code: https:#code.earthengine.google.com/02cbf97172a6dd9d1062ca0c6c122137\n",
    "###########################################'''\n",
    "\n",
    "'''------------------------------------ IMPORT STUDY AREA ----------------------------'''\n",
    "campagna_study_area = ee.FeatureCollection('ft:1Qo6AmhdEN44vPUpyGtzPtQUUO4rygWv4MljZ-MiE');\n",
    "# Get the link here: https:#www.google.com/fusiontables/DataSource?docid=1Qo6AmhdEN44vPUpyGtzPtQUUO4rygWv4MljZ-MiE\n",
    "\n",
    "'''------------------------------------ SET NDVI THRESHOLD ---------------------------'''\n",
    "NDVI_Threshold = 0.51;\n",
    "\n",
    "'''------------------------------------- IMPORT MASK ---------------------------------'''\n",
    "mask_input_60m_2015 = ee.Image('users/jerrilyn/2015mask-PM-fullstudy-area');\n",
    "# Get the link here: https:#drive.google.com/file/d/0B_MArPTqurHudFp6STU4ZzJHRmc/view\n",
    "\n",
    "''' ----------------------------------- VISUALIZATION / SETUP ------------------------------\n",
    "Adds Campagna study area; various areas of interest  '''\n",
    "\n",
    "# Map.addLayer(campagna_study_area, {}, \"Study area\");\n",
    "\n",
    "# Choose your favorite area of interest! Comment out all but one:\n",
    "#Map.centerObject(campagna_study_area);        # Full study extent\n",
    "#Map.setCenter(-81.971744, 38.094253, 12);     # Near Spurlockville, WV\n",
    "# Map.setCenter(-82.705444, 37.020257, 12);     # Near Addington, VA\n",
    "#Map.setCenter(-83.224567, 37.355144, 11);     # Near Dice, KY\n",
    "#Map.setCenter(-83.931184, 36.533646, 12);     # Near Log Mountain, TN\n",
    "\n",
    "# This list will contain all output images, so as to build an ImageCollection later for video export\n",
    "allMTR_list = [];\n",
    "\n",
    "# This empty 2D array will be used for area calculation later (if performed)\n",
    "MTR_area = [[],[]];\n",
    "\n",
    "# Subregions for exporting images/videos\n",
    "# geometryI   = ee.Geometry.Rectangle([-79.612, 37.3525, -82.421, 39.037])#.toGeoJSON();\n",
    "# geometryII  = ee.Geometry.Rectangle([-82.421, 37.3525, -84.993, 38.942]).toGeoJSON();\n",
    "# geometryIII = ee.Geometry.Rectangle([-82.421, 35.367,  -85.811, 37.3525]).toGeoJSON();\n",
    "# geometryIV  = ee.Geometry.Rectangle([-79.849, 35.763,  -82.421, 37.3525]).toGeoJSON();\n",
    "# exportbounds = campagna_study_area.geometry().bounds().getInfo();\n",
    "\n",
    "counties = ee.FeatureCollection('ft:1S4EB6319wWW2sWQDPhDvmSBIVrD3iEmCLYB7nMM');\n",
    "boon = counties.filterMetadata('FIPS', 'equals', 54005);\n",
    "\n",
    "'''--------------------------------- IMAGE PROCESSING ---------------------------------'''\n",
    "for year in range(1984,2016): # Years of interest for the study\n",
    "  \n",
    "\n",
    "    # Determine what imagery dataset to use, based off year loop; and what threshold to use\n",
    "    if year <= 2011:\n",
    "        imagery = ee.ImageCollection(\"LANDSAT/LT5_L1T_ANNUAL_GREENEST_TOA\");\n",
    "        NDVIbands = 43;\n",
    "    \n",
    "    elif year == 2012:\n",
    "        imagery = ee.ImageCollection(\"LANDSAT/LE7_L1T_ANNUAL_GREENEST_TOA\");\n",
    "        NDVIbands = 43;\n",
    "    \n",
    "    elif year >= 2013:\n",
    "        imagery = ee.ImageCollection(\"LANDSAT/LC8_L1T_ANNUAL_GREENEST_TOA\");\n",
    "        NDVIbands = 54; # Because different bands are needed for LS8\n",
    "\n",
    "    # Select specific year for analysis\n",
    "    yearImg = ee.Image(imagery.filterDate(str(year)+\"-01-01\", str(year)+\"-12-31\").first()).clip(campagna_study_area);\n",
    "\n",
    "    # Calculate NDVI (using normalizedDifference function; select correct bands per sensor)\n",
    "    if NDVIbands == 54:\n",
    "        NDVI = yearImg.normalizedDifference([\"B5\",\"B4\"]).clip(campagna_study_area);\n",
    "    else:\n",
    "        NDVI = yearImg.normalizedDifference([\"B4\",\"B3\"]).clip(campagna_study_area);\n",
    "    \n",
    "\n",
    "    # Create a mask of areas that ARE NOT mines (value of 1 to locations where NDVI is <= threshold)\n",
    "    lowNDVI = NDVI.where(NDVI.lte(NDVI_Threshold),1).where(NDVI.gt(NDVI_Threshold),0);\n",
    "\n",
    "    # Create binary image containing the intersection between the LowNDVI and anywhere the inverted mask is 1\n",
    "    MTR = lowNDVI.And(mask_input_60m_2015.eq(0));\n",
    "\n",
    "    # Erode/dilate MTR sites to remove outliers (pixel clean-up)\n",
    "    MTR_eroded_dialated_dialated_eroded = MTR.reduceNeighborhood(ee.Reducer.max(), ee.Kernel.euclidean(30, 'meters'))\\\n",
    "    .reduceNeighborhood(ee.Reducer.min(), ee.Kernel.euclidean(30, 'meters'))\\\n",
    "    .reduceNeighborhood(ee.Reducer.min(), ee.Kernel.euclidean(30, 'meters'))\\\n",
    "    .reduceNeighborhood(ee.Reducer.max(), ee.Kernel.euclidean(30, 'meters'));\n",
    "\n",
    "    MTR_masked = MTR_eroded_dialated_dialated_eroded.updateMask(MTR_eroded_dialated_dialated_eroded);\n",
    "\n",
    "\n",
    "#     Get a pixel area image, which will apply to any scale you provide\n",
    "    Area = ee.Image.pixelArea();\n",
    "\n",
    "    # The area calculation, which currently burns out the server\n",
    "    areaAll = MTR_masked.multiply(Area).reduceRegion(reducer=ee.Reducer.sum(),geometry=boon, \n",
    "                                                      scale= 30,crs= 'EPSG:3857',maxPixels= 1e9)\n",
    "    areaKmSq = ee.Number(areaAll.get(MTR_masked.bandNames().getInfo()[0])).divide(1000*1000);\n",
    "    \n",
    "\n",
    "    # Add these areas and their corresponding year to 2D array\n",
    "    MTR_area[0].append(year);\n",
    "    MTR_area[1].append(areaKmSq);\n",
    "    \n",
    "\n",
    "    start_time = datetime.date(\n",
    "        year=year,\n",
    "        month=1,\n",
    "        day=1)\n",
    "    \n",
    "    end_time = start_time + datetime.timedelta(days=364)\n",
    "\n",
    "    \n",
    "    MTR_masked = MTR_masked.set('system:time_start',1000*time.mktime(start_time.timetuple()))\n",
    "    MTR_masked = MTR_masked.set('system:time_end',1000*time.mktime(end_time.timetuple()))\n",
    "    allMTR_list.append(MTR_masked);\n"
   ]
  },
  {
   "cell_type": "code",
   "execution_count": 147,
   "metadata": {
    "collapsed": true
   },
   "outputs": [],
   "source": [
    "county = []"
   ]
  },
  {
   "cell_type": "code",
   "execution_count": 148,
   "metadata": {
    "collapsed": false
   },
   "outputs": [],
   "source": [
    "for i in range(len(MTR_area[1])):\n",
    "    try:\n",
    "        county.append(MTR_area[1][i].getInfo())\n",
    "    except:\n",
    "        time.sleep(20)\n",
    "        county.append(MTR_area[1][i].getInfo())\n",
    "    time.sleep(15)"
   ]
  },
  {
   "cell_type": "code",
   "execution_count": 156,
   "metadata": {
    "collapsed": false
   },
   "outputs": [
    {
     "data": {
      "image/png": "[encoded data removed]",
      "text/plain": [
       "<matplotlib.figure.Figure at 0x10c9b43d0>"
      ]
     },
     "metadata": {},
     "output_type": "display_data"
    }
   ],
   "source": [
    "plt.plot(MTR_area[0],county)\n",
    "plt.ylabel(\"square km of non-green likely mines\")\n",
    "plt.title(\"Mined area in Boone County, WV\")\n",
    "plt.show()"
   ]
  },
  {
   "cell_type": "code",
   "execution_count": null,
   "metadata": {
    "collapsed": true
   },
   "outputs": [],
   "source": []
  },
  {
   "cell_type": "code",
   "execution_count": null,
   "metadata": {
    "collapsed": true
   },
   "outputs": [],
   "source": []
  },
  {
   "cell_type": "code",
   "execution_count": null,
   "metadata": {
    "collapsed": true
   },
   "outputs": [],
   "source": []
  },
  {
   "cell_type": "markdown",
   "metadata": {},
   "source": [
    "# The stuff below here doesn't work"
   ]
  },
  {
   "cell_type": "code",
   "execution_count": 26,
   "metadata": {
    "collapsed": true
   },
   "outputs": [],
   "source": [
    "allMTR = ee.ImageCollection(allMTR_list)"
   ]
  },
  {
   "cell_type": "code",
   "execution_count": 101,
   "metadata": {
    "collapsed": false
   },
   "outputs": [],
   "source": [
    "def getMean(img):\n",
    "    return img.reduceRegions(boon, ee.Reducer.mean(),100)\n",
    "# ans = ee.FeatureCollection(landsat8Toa.map(getMean)).flatten().aggregate_array('.all').getInfo()\n",
    "ans = ee.FeatureCollection(allMTR.map(getMean)).flatten().aggregate_array('.all').getInfo()\n",
    "\n",
    "# data = [x['properties']['values'] for x in ans]\n",
    "# x_ = range(0,7)\n",
    "# labels = ['B{0}'.format(x) for x in range(1,8)]\n",
    "\n",
    "# plt.plot(data)\n",
    "# plt.xticks(range(len(plt.xticks()[0])),[datetime.datetime.strptime(x['id'][:-2], \"%Y%m%d\").strftime('%b %Y') for x in ans])\n",
    "# plt.legend(plt.plot(data),['B{0}'.format(x) for x in range(1,8)])\n",
    "# plt.show()\n"
   ]
  },
  {
   "cell_type": "code",
   "execution_count": 116,
   "metadata": {
    "collapsed": false
   },
   "outputs": [
    {
     "name": "stdout",
     "output_type": "stream",
     "text": [
      "geometry {u'type': u'Polygon', u'geodesic': True, u'coordinates': [[[-81.97856890000001, 37.996849], [-81.972855, 37.979816], [-81.959503, 37.971684], [-81.9244, 37.971142], [-81.91407, 37.954727000000005], [-81.820595, 37.94490799999999], [-81.784088, 37.929859], [-81.759315, 37.895336], [-81.77825900000002, 37.86971700000001], [-81.743202, 37.82829300000001], [-81.7172159, 37.812405], [-81.6829829, 37.825832], [-81.678818, 37.834599000000004], [-81.65244300000002, 37.832321], [-81.615089, 37.790031], [-81.580795, 37.781204], [-81.574615, 37.764168], [-81.516403, 37.797401000000015], [-81.526344, 37.830193], [-81.558975, 37.829563], [-81.565201, 37.8579409], [-81.556679, 37.894062], [-81.5655139, 37.937778], [-81.516647, 37.984303], [-81.496758, 37.97316], [-81.480209, 37.980503], [-81.454811, 37.97543], [-81.45145400000001, 38.01092100000001], [-81.481865, 38.065281000000006], [-81.495979, 38.06663500000001], [-81.510719, 38.057991], [-81.533371, 38.076297999999994], [-81.538589, 38.086105], [-81.52359, 38.111548899999995], [-81.544273, 38.136276], [-81.590797, 38.151516], [-81.61105299999998, 38.17851300000002], [-81.6391529, 38.1780199], [-81.652214, 38.222492], [-81.676765, 38.221207], [-81.722527, 38.231892], [-81.742859, 38.198071], [-81.752777, 38.197273], [-81.767433, 38.227615], [-81.7792429, 38.229019000000015], [-81.784012, 38.210251], [-81.813057, 38.205604999999984], [-81.804604, 38.181399899999995], [-81.820366, 38.190376], [-81.821114, 38.20305300000001], [-81.833397, 38.212601], [-81.844589, 38.193604], [-81.839722, 38.180618], [-81.851173, 38.176128], [-81.879761, 38.183731], [-81.88478099999999, 38.149979], [-81.90023799999999, 38.143978], [-81.924637, 38.15036], [-81.936897, 38.139935], [-81.94417599999998, 38.105186], [-81.97618899999999, 38.0636409], [-81.964218, 38.049557], [-81.914421, 38.038654], [-81.91571, 38.030895], [-81.945175, 38.024841], [-81.97856890000001, 37.996849]]]}\n",
      "type Feature\n",
      "id 0_3294_3350\n",
      "properties {u'SBO415207': 3.1, u'VET605210': 1933.0, u'RHI505210': 0.0, u'PVY020210': 19.3, u'StateFips': 54.0, u'POP050210': -3.5, u'HSD310210': 2.47, u'BZA010209': 313.0, u'RTN130207': 190618.0, u'EDU685210': 8.2, u'SBO215207': 0.0, u'Latitude': {u'type': u'Point', u'geodesic': True, u'coordinates': [-81.733571, 38.063291]}, u'AGE765210': 14.2, u'POP715210': 90.2, u'POP010200': 25535.0, u'HSD410210': 10023.0, u'HSG030210': 11070.0, u'POP010210': 24629.0, u'HSG096210': 4.8, u'PST045211': 0.0, u'AGE115210': 6.2, u'SBO315207': 0.0, u'POP060210': 49.1, u'Water Area (square miles)': 0.19655, u'RHI205210': 0.5, u'StateName': u'West Virginia', u'INC910210': 20457.0, u'POP815210': 0.5, u'LND110210': 501.54, u'HSG495210': 76400.0, u'State Postal Abbreviation': u'WV', u'Fips': 54005.0, u'Census 2000 Housing Units': 11575.0, u'SEX205210': 50.3, u'County Name': {u'type': u'MultiPoint', u'geodesic': True, u'coordinates': []}, u'LFE305210': 29.1, u'SBO015207': 33.5, u'Census 2000 Population': 25535.0, u'POP645210': 0.1, u'Longitude': -81.733571, u'RHI305210': 0.1, u'FIPS': 54005.0, u'BZA115209': 31.3, u'MAN450207': 0.0, u'WTN220207': 0.0, u'RHI405210': 0.1, u'RTN131207': 7589.0, u'RHI805210': 98.3, u'BPS030210': 54.0, u'FED110209': 207606.0, u'INC110210': 39783.0, u'SBO115207': 0.0, u'NES010209': 747.0, u'Land Area (square miles)': 502.984441, u'AGE275210': 22.8, u'RHI705210': 0.4, u'CntyFips': 5.0, u'RHI105210': 98.5, u'HSG445210': 76.2, u'EDU635210': 71.5, u'SBO515207': 0.0, u'AFN120207': 13226.0, u'BZA110209': 7251.0, u'RHI605210': 0.6, u'SBO001207': 1119.0}\n"
     ]
    }
   ],
   "source": [
    "for a in ans[0]:\n",
    "    print a, ans[0][a]"
   ]
  },
  {
   "cell_type": "code",
   "execution_count": 131,
   "metadata": {
    "collapsed": true
   },
   "outputs": [],
   "source": [
    "def getArea(img):\n",
    "    Area = ee.Image.pixelArea()\n",
    "    # The area calculation, which currently burns out the server\n",
    "#     areaAll = MTR_masked.multiply(Area).reduceRegion(reducer=ee.Reducer.sum(),geometry=boon, \n",
    "#                                                       scale= 30,crs= 'EPSG:3857',maxPixels= 1e9)\n",
    "\n",
    "    areaAll = img.multiply(Area).reduceRegions(boon, ee.Reducer.sum(), 100,'EPSG:3857')\n",
    "    \n",
    "    \n",
    "    areaKmSq = ee.Number(areaAll.get('nd_max_min_max')).divide(1000*1000)\n",
    "    return areaKmSq\n",
    "#     return areaAll"
   ]
  },
  {
   "cell_type": "code",
   "execution_count": 132,
   "metadata": {
    "collapsed": false
   },
   "outputs": [
    {
     "ename": "EEException",
     "evalue": "Collection.map: A mapped algorithm must return a Feature or Image.",
     "output_type": "error",
     "traceback": [
      "\u001b[0;31m---------------------------------------------------------------------------\u001b[0m",
      "\u001b[0;31mEEException\u001b[0m                               Traceback (most recent call last)",
      "\u001b[0;32m<ipython-input-132-73d89c5dac3e>\u001b[0m in \u001b[0;36m<module>\u001b[0;34m()\u001b[0m\n\u001b[0;32m----> 1\u001b[0;31m \u001b[0mans\u001b[0m \u001b[0;34m=\u001b[0m \u001b[0mee\u001b[0m\u001b[0;34m.\u001b[0m\u001b[0mFeatureCollection\u001b[0m\u001b[0;34m(\u001b[0m\u001b[0mallMTR\u001b[0m\u001b[0;34m.\u001b[0m\u001b[0mmap\u001b[0m\u001b[0;34m(\u001b[0m\u001b[0mgetArea\u001b[0m\u001b[0;34m)\u001b[0m\u001b[0;34m)\u001b[0m\u001b[0;34m.\u001b[0m\u001b[0mflatten\u001b[0m\u001b[0;34m(\u001b[0m\u001b[0;34m)\u001b[0m\u001b[0;34m.\u001b[0m\u001b[0maggregate_array\u001b[0m\u001b[0;34m(\u001b[0m\u001b[0;34m'.all'\u001b[0m\u001b[0;34m)\u001b[0m\u001b[0;34m.\u001b[0m\u001b[0mgetInfo\u001b[0m\u001b[0;34m(\u001b[0m\u001b[0;34m)\u001b[0m\u001b[0;34m\u001b[0m\u001b[0m\n\u001b[0m",
      "\u001b[0;32m/Library/Frameworks/Python.framework/Versions/2.7/lib/python2.7/site-packages/ee/computedobject.pyc\u001b[0m in \u001b[0;36mgetInfo\u001b[0;34m(self)\u001b[0m\n\u001b[1;32m     93\u001b[0m       \u001b[0mThe\u001b[0m \u001b[0mobject\u001b[0m \u001b[0mcan\u001b[0m \u001b[0mevaluate\u001b[0m \u001b[0mto\u001b[0m \u001b[0manything\u001b[0m\u001b[0;34m.\u001b[0m\u001b[0;34m\u001b[0m\u001b[0m\n\u001b[1;32m     94\u001b[0m     \"\"\"\n\u001b[0;32m---> 95\u001b[0;31m     \u001b[0;32mreturn\u001b[0m \u001b[0mdata\u001b[0m\u001b[0;34m.\u001b[0m\u001b[0mgetValue\u001b[0m\u001b[0;34m(\u001b[0m\u001b[0;34m{\u001b[0m\u001b[0;34m'json'\u001b[0m\u001b[0;34m:\u001b[0m \u001b[0mself\u001b[0m\u001b[0;34m.\u001b[0m\u001b[0mserialize\u001b[0m\u001b[0;34m(\u001b[0m\u001b[0;34m)\u001b[0m\u001b[0;34m}\u001b[0m\u001b[0;34m)\u001b[0m\u001b[0;34m\u001b[0m\u001b[0m\n\u001b[0m\u001b[1;32m     96\u001b[0m \u001b[0;34m\u001b[0m\u001b[0m\n\u001b[1;32m     97\u001b[0m   \u001b[0;32mdef\u001b[0m \u001b[0mencode\u001b[0m\u001b[0;34m(\u001b[0m\u001b[0mself\u001b[0m\u001b[0;34m,\u001b[0m \u001b[0mencoder\u001b[0m\u001b[0;34m)\u001b[0m\u001b[0;34m:\u001b[0m\u001b[0;34m\u001b[0m\u001b[0m\n",
      "\u001b[0;32m/Library/Frameworks/Python.framework/Versions/2.7/lib/python2.7/site-packages/ee/data.pyc\u001b[0m in \u001b[0;36mgetValue\u001b[0;34m(params)\u001b[0m\n\u001b[1;32m    239\u001b[0m   \"\"\"\n\u001b[1;32m    240\u001b[0m   \u001b[0mparams\u001b[0m\u001b[0;34m[\u001b[0m\u001b[0;34m'json_format'\u001b[0m\u001b[0;34m]\u001b[0m \u001b[0;34m=\u001b[0m \u001b[0;34m'v2'\u001b[0m\u001b[0;34m\u001b[0m\u001b[0m\n\u001b[0;32m--> 241\u001b[0;31m   \u001b[0;32mreturn\u001b[0m \u001b[0msend_\u001b[0m\u001b[0;34m(\u001b[0m\u001b[0;34m'/value'\u001b[0m\u001b[0;34m,\u001b[0m \u001b[0mparams\u001b[0m\u001b[0;34m)\u001b[0m\u001b[0;34m\u001b[0m\u001b[0m\n\u001b[0m\u001b[1;32m    242\u001b[0m \u001b[0;34m\u001b[0m\u001b[0m\n\u001b[1;32m    243\u001b[0m \u001b[0;34m\u001b[0m\u001b[0m\n",
      "\u001b[0;32m/Library/Frameworks/Python.framework/Versions/2.7/lib/python2.7/site-packages/ee/data.pyc\u001b[0m in \u001b[0;36msend_\u001b[0;34m(path, params, opt_method, opt_raw)\u001b[0m\n\u001b[1;32m    719\u001b[0m       \u001b[0;32mraise\u001b[0m \u001b[0mee_exception\u001b[0m\u001b[0;34m.\u001b[0m\u001b[0mEEException\u001b[0m\u001b[0;34m(\u001b[0m\u001b[0;34m'Invalid JSON: %s'\u001b[0m \u001b[0;34m%\u001b[0m \u001b[0mcontent\u001b[0m\u001b[0;34m)\u001b[0m\u001b[0;34m\u001b[0m\u001b[0m\n\u001b[1;32m    720\u001b[0m     \u001b[0;32mif\u001b[0m \u001b[0;34m'error'\u001b[0m \u001b[0;32min\u001b[0m \u001b[0mjson_content\u001b[0m\u001b[0;34m:\u001b[0m\u001b[0;34m\u001b[0m\u001b[0m\n\u001b[0;32m--> 721\u001b[0;31m       \u001b[0;32mraise\u001b[0m \u001b[0mee_exception\u001b[0m\u001b[0;34m.\u001b[0m\u001b[0mEEException\u001b[0m\u001b[0;34m(\u001b[0m\u001b[0mjson_content\u001b[0m\u001b[0;34m[\u001b[0m\u001b[0;34m'error'\u001b[0m\u001b[0;34m]\u001b[0m\u001b[0;34m[\u001b[0m\u001b[0;34m'message'\u001b[0m\u001b[0;34m]\u001b[0m\u001b[0;34m)\u001b[0m\u001b[0;34m\u001b[0m\u001b[0m\n\u001b[0m\u001b[1;32m    722\u001b[0m     \u001b[0;32mif\u001b[0m \u001b[0;34m'data'\u001b[0m \u001b[0;32mnot\u001b[0m \u001b[0;32min\u001b[0m \u001b[0mcontent\u001b[0m\u001b[0;34m:\u001b[0m\u001b[0;34m\u001b[0m\u001b[0m\n\u001b[1;32m    723\u001b[0m       \u001b[0;32mraise\u001b[0m \u001b[0mee_exception\u001b[0m\u001b[0;34m.\u001b[0m\u001b[0mEEException\u001b[0m\u001b[0;34m(\u001b[0m\u001b[0;34m'Malformed response: '\u001b[0m \u001b[0;34m+\u001b[0m \u001b[0mstr\u001b[0m\u001b[0;34m(\u001b[0m\u001b[0mcontent\u001b[0m\u001b[0;34m)\u001b[0m\u001b[0;34m)\u001b[0m\u001b[0;34m\u001b[0m\u001b[0m\n",
      "\u001b[0;31mEEException\u001b[0m: Collection.map: A mapped algorithm must return a Feature or Image."
     ]
    }
   ],
   "source": [
    "ans = ee.FeatureCollection(allMTR.map(getArea)).flatten().aggregate_array('.all').getInfo()"
   ]
  },
  {
   "cell_type": "code",
   "execution_count": 98,
   "metadata": {
    "collapsed": false
   },
   "outputs": [
    {
     "name": "stdout",
     "output_type": "stream",
     "text": [
      "[0.0, 0.0, 0.0, 0.0, 0.0, 0.0, 0.0, 0.0, 0.0, 0.0, 0.0, 0.0, 0.0, 0.0, 0.0, 0.0, 0.0, 0.0, 0.0, 0.0, 0.0, 0.0, 0.0, 0.0, 0.0, 0.0, 0.0, 0.0, 0.0, 0.0, 0.0, 0.0]\n"
     ]
    }
   ],
   "source": [
    "print [a['properties']['sum'] for a in ans]"
   ]
  },
  {
   "cell_type": "code",
   "execution_count": null,
   "metadata": {
    "collapsed": true
   },
   "outputs": [],
   "source": []
  }
 ],
 "metadata": {
  "kernelspec": {
   "display_name": "Python 2",
   "language": "python",
   "name": "python2"
  },
  "language_info": {
   "codemirror_mode": {
    "name": "ipython",
    "version": 2
   },
   "file_extension": ".py",
   "mimetype": "text/x-python",
   "name": "python",
   "nbconvert_exporter": "python",
   "pygments_lexer": "ipython2",
   "version": "2.7.3"
  }
 },
 "nbformat": 4,
 "nbformat_minor": 0
}
