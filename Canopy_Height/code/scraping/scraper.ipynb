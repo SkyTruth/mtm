{
  "cells": [
    {
      "cell_type": "markdown",
      "metadata": {},
      "source": [
        "Uses a list of tile IDs to scrape the corresponding LAZ files from the USGS database into a GCS bucket. Used for Tennessee, West Virginia, and Virginia lidar acquisition projects.\n",
        "\n",
        "Inputs:\n",
        "- List of tile IDs that intersect the study region for each lidar acquisition project (e.g. lidar_data/tile_IDs/TN_27_County_B1.csv)\n",
        "\n",
        "Outputs:\n",
        "- LAZ files in the corresponding state directory of the GCS bucket (e.g. lidar_data/tn/TN_27_County_B1_2248661NE.laz)"
      ]
    },
    {
      "cell_type": "code",
      "execution_count": null,
      "metadata": {
        "id": "nFlx15QNwWGf"
      },
      "outputs": [],
      "source": [
        "import pandas as pd\n",
        "import requests\n",
        "from multiprocessing import Pool\n",
        "import time\n",
        "from google.colab import auth\n",
        "from google.cloud import storage"
      ]
    },
    {
      "cell_type": "code",
      "execution_count": null,
      "metadata": {},
      "outputs": [],
      "source": [
        "PROJECT_ID = 'skytruth-tech'\n",
        "GCLOUD_BUCKET = 'mountaintop_mining'\n",
        "MAIN_DIR = 'lidar_data'\n",
        "TILE_IDS_DIR = MAIN_DIR + '/tile_IDs'\n",
        "DATABASE_URL = 'https://rockyweb.usgs.gov/vdelivery/Datasets/Staged/Elevation/LPC/Projects'"
      ]
    },
    {
      "cell_type": "code",
      "execution_count": null,
      "metadata": {
        "id": "bYF0DR9L89uF"
      },
      "outputs": [],
      "source": [
        "# Select lidar acquisition project and set info\n",
        "state = 'tn'\n",
        "project_name = 'TN_27_County_B1'\n",
        "file_path = 'USGS_LPC_TN_27County_blk1_2015_LAS_2018/laz/USGS_LPC_TN_27County_blk1_2015'\n",
        "file_suffix = '_LAS_2018'\n",
        "\n",
        "# state = 'tn'\n",
        "# project_name = 'TN_27_County_B2'\n",
        "# file_path = 'TN_27_County_QL2_LiDAR_Cumberland_Plateau_BAA/TN_27County_blk3_2015/LAZ/USGS_LPC_TN_27_County_QL2_LiDAR_Cumberland_Plateau_BAA'\n",
        "# file_suffix = ''\n",
        "\n",
        "# state = 'tn'\n",
        "# project_name = 'TN_27_County_B3'\n",
        "# file_path = 'TN_27_County_QL2_LiDAR_Cumberland_Plateau_BAA/TN_27County_blk3_2015/LAZ/USGS_LPC_TN_27_County_QL2_LiDAR_Cumberland_Plateau_BAA'\n",
        "# file_suffix = ''\n",
        "\n",
        "# state = 'va'\n",
        "# project_name = 'VA_R3_Southwest_A'\n",
        "# file_path = 'USGS_LPC_VA_FEMA_R3_Southwest_A_2016_LAS_2018/laz/USGS_LPC_VA_FEMA_R3_Southwest_A_2016'\n",
        "# file_suffix = '_LAS_2018'\n",
        "\n",
        "# state = 'wv'\n",
        "# project_name = 'VA_NRCS_South_Central_B1'\n",
        "# file_path = 'VA_FEMA-NRCS_SouthCentral_2017_D17/VA_South_Central_B1_2017/LAZ/USGS_LPC_VA_FEMA-NRCS_SouthCentral_2017_D17'\n",
        "# file_suffix = ''\n",
        "\n",
        "# state = 'wv'\n",
        "# project_name = 'WV_HQ_B1'\n",
        "# file_path = 'WV_FEMAHQ_2018_D18/WV_FEMAHQ_B1_2018/LAZ/USGS_LPC_WV_FEMAHQ_2018_D18'\n",
        "# file_suffix = ''\n",
        "\n",
        "# state = 'wv'\n",
        "# project_name = 'WV_HQ_B2'\n",
        "# file_path = 'WV_FEMAHQ_2018_D18/WV_FEMAHQ_B2_2018/LAZ/USGS_LPC_WV_FEMAHQ_2018_D18'\n",
        "# file_suffix = ''\n",
        "\n",
        "# state = 'wv'\n",
        "# project_name = 'WV_HQ_B3'\n",
        "# file_path = 'WV_FEMAHQ_2018_D18/WV_FEMAHQ_B3_2018/LAZ/USGS_LPC_WV_FEMAHQ_2018_D18'\n",
        "# file_suffix = ''\n",
        "\n",
        "# state = 'wv'\n",
        "# project_name = 'WV_R3_East'\n",
        "# file_path = 'WV_FEMA_R3_East_Lidar_2016_D16/WV_FEMA_R3_East_2016/LAZ/USGS_LPC_WV_FEMA_R3_East_Lidar_2016_D16'\n",
        "# file_suffix = ''\n",
        "\n",
        "# state = 'wv'\n",
        "# project_name = 'WV_R3_Southcentral_B1'\n",
        "# file_path = 'WV_FEMAR3_Southcentral_2018_D19/WV_FEMAR3_Southcentral_B1_2018/LAZ/USGS_LPC_WV_FEMAR3_Southcentral_2018_D19'\n",
        "# file_suffix = ''\n",
        "\n",
        "# state = 'wv'\n",
        "# project_name = 'WV_R3_Southcentral_B3'\n",
        "# file_path = 'WV_FEMAR3_Southcentral_2018_D19/WV_FEMAR3_Southcentral_B3_2018/LAZ/USGS_LPC_WV_FEMAR3_Southcentral_2018_D19'\n",
        "# file_suffix = ''\n",
        "\n",
        "# state = 'wv'\n",
        "# project_name = 'WV_R3_Southcentral_B4'\n",
        "# file_path = 'WV_FEMAR3_Southcentral_2018_D19/WV_FEMAR3_Southcentral_B4_2018/LAZ/USGS_LPC_WV_FEMAR3_Southcentral_2018_D19'\n",
        "# file_suffix = ''"
      ]
    },
    {
      "cell_type": "code",
      "execution_count": null,
      "metadata": {
        "id": "xM-8C51gUJuq"
      },
      "outputs": [],
      "source": [
        "# Authenticate GCS\n",
        "auth.authenticate_user()"
      ]
    },
    {
      "cell_type": "code",
      "execution_count": null,
      "metadata": {
        "id": "xZ73FzHbUNRg"
      },
      "outputs": [],
      "source": [
        "# Initialize Google Cloud Storage client and access bucket\n",
        "client = storage.Client(project=PROJECT_ID)\n",
        "bucket = client.get_bucket(GCLOUD_BUCKET)"
      ]
    },
    {
      "cell_type": "code",
      "execution_count": null,
      "metadata": {
        "id": "OB-V5fRfwnaX"
      },
      "outputs": [],
      "source": [
        "# Get list of tile IDs to scrape\n",
        "csv_name = f'{project_name}.csv'\n",
        "csv = bucket.blob(f'{TILE_IDS_DIR}/{csv_name}')\n",
        "csv.download_to_filename(f'/content/{csv_name}')\n",
        "df = pd.read_csv(f'/content/{csv_name}', header=0)\n",
        "tile_IDs = df.iloc[:, 0].tolist()\n",
        "print(len(tile_IDs))"
      ]
    },
    {
      "cell_type": "code",
      "execution_count": null,
      "metadata": {
        "id": "aJr2L5mcdh1G"
      },
      "outputs": [],
      "source": [
        "# Scraper function\n",
        "def scrape(tile_ID):\n",
        "  url = f'{DATABASE_URL}/{file_path}_{tile_ID}{file_suffix}.laz'\n",
        "  uploaded_file_name = f'{MAIN_DIR}/{state}/{project_name}_{tile_ID}.laz'\n",
        "  uploaded_file = bucket.blob(uploaded_file_name)\n",
        "  if not uploaded_file.exists():\n",
        "    max_retries = 3\n",
        "    for attempt in range(max_retries):\n",
        "      try:\n",
        "        with requests.get(url, stream=True) as response: # Avoids downloading the file locally\n",
        "          if response.status_code == 200:\n",
        "            uploaded_file.upload_from_file(response.raw)\n",
        "            break\n",
        "      except requests.exceptions.RequestException as e: # Tries again if after waiting 5 sec if there is a connection error\n",
        "        time.sleep(5)"
      ]
    },
    {
      "cell_type": "code",
      "execution_count": null,
      "metadata": {
        "id": "v7fP1m1YdQRn"
      },
      "outputs": [],
      "source": [
        "# Parallelize for speed\n",
        "num_processes = 10\n",
        "\n",
        "with Pool(num_processes) as pool:\n",
        "        pool.map(scrape, tile_IDs)"
      ]
    }
  ],
  "metadata": {
    "colab": {
      "provenance": []
    },
    "kernelspec": {
      "display_name": "Python 3",
      "name": "python3"
    },
    "language_info": {
      "name": "python"
    }
  },
  "nbformat": 4,
  "nbformat_minor": 0
}
